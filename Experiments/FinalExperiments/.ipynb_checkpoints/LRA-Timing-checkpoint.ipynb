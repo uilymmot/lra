{
 "cells": [
  {
   "cell_type": "code",
   "execution_count": 1,
   "metadata": {},
   "outputs": [],
   "source": [
    "import numpy as np\n",
    "import pandas as pd\n",
    "from sklearn.decomposition import PCA\n",
    "import matplotlib.pyplot as plt\n",
    "import copy\n",
    "from sklearn.linear_model import LinearRegression\n",
    "from sklearn.model_selection import train_test_split\n",
    "from sklearn.model_selection import cross_val_score\n",
    "from sklearn.ensemble import RandomForestRegressor\n",
    "import sys\n",
    "import math\n",
    "import scipy.spatial.distance\n",
    "from sklearn.metrics.pairwise import pairwise_distances\n",
    "from sklearn.tree import DecisionTreeRegressor\n",
    "import os\n",
    "import shutil\n",
    "import glob\n",
    "import shap\n",
    "from sklearn.model_selection import train_test_split\n",
    "\n",
    "cmap='viridis'\n",
    "sys.path.insert(1, '../')\n",
    "from LibHelperFuncs import *\n",
    "\n",
    "rstate = 0\n",
    "np.random.seed(rstate)\n",
    "njob = -1\n",
    "global_trees = 1000\n",
    "\n",
    "np.random.seed(rstate)\n",
    "\n",
    "from sklearn.linear_model import Ridge\n",
    "from sklearn.kernel_ridge import KernelRidge\n",
    "from sklearn.neural_network import MLPRegressor\n",
    "\n",
    "import time"
   ]
  },
  {
   "cell_type": "code",
   "execution_count": 2,
   "metadata": {},
   "outputs": [],
   "source": [
    "originalDat = np.genfromtxt(\"../../Data/data_bas_preprocessing.csv\", delimiter=',')\n",
    "originalDat_pd = pd.read_csv(\"../../Data/data_bas_preprocessing_pd.csv\")\n",
    "\n",
    "X = originalDat[:,:-1]\n",
    "Y = originalDat[:,-1]\n",
    "C = originalDat_pd.columns\n"
   ]
  },
  {
   "cell_type": "code",
   "execution_count": 17,
   "metadata": {},
   "outputs": [],
   "source": []
  },
  {
   "cell_type": "code",
   "execution_count": 21,
   "metadata": {},
   "outputs": [],
   "source": [
    "t1 = time.time()\n",
    "\n",
    "rf = RandomForestRegressor(n_estimators=global_trees, random_state=rstate, n_jobs=-1)\n",
    "rf.fit(X, Y)\n",
    "\n",
    "t2 = time.time()\n",
    "\n",
    "exp = shap.TreeExplainer(rf, feature_perturbation='tree_path_dependant')\n",
    "s_vals = exp.shap_values(X, approximate=True)\n",
    "ov_shap = np.mean(np.abs(s_vals), axis=0)\n",
    "\n",
    "t3 = time.time()"
   ]
  },
  {
   "cell_type": "code",
   "execution_count": 24,
   "metadata": {},
   "outputs": [
    {
     "name": "stdout",
     "output_type": "stream",
     "text": [
      "Time to train model: 8.400600910186768\n",
      "Time to compute SHAP values: 1.397200584411621\n"
     ]
    }
   ],
   "source": [
    "print(\"Time to train model:\",t2-t1)\n",
    "print(\"Time to compute SHAP values:\",t3-t2)"
   ]
  },
  {
   "cell_type": "code",
   "execution_count": 25,
   "metadata": {},
   "outputs": [],
   "source": [
    "t1 = time.time()\n",
    "\n",
    "pca = PCA(n_components=50)\n",
    "pca.fit(X)\n",
    "# comps = compute_sparse_components(pca.components_, X.shape[1], 0.85)\n",
    "comps = pca.components_\n",
    "X_r = (comps @ X.T).T\n",
    "\n",
    "rf = RandomForestRegressor(n_estimators=global_trees, random_state=rstate, n_jobs=-1)\n",
    "rf.fit(X_r, Y)\n",
    "\n",
    "t2 = time.time()\n",
    "\n",
    "exp = shap.TreeExplainer(rf, feature_perturbation='tree_path_dependant')\n",
    "s_vals = exp.shap_values(X_r, approximate=True)\n",
    "ov_reduced_shap = mean_carried_shap(s_vals, pca.components_, X)\n",
    "\n",
    "t3 = time.time()"
   ]
  },
  {
   "cell_type": "code",
   "execution_count": 26,
   "metadata": {},
   "outputs": [
    {
     "name": "stdout",
     "output_type": "stream",
     "text": [
      "Time to train model: 3.276597023010254\n",
      "Time to compute SHAP values: 1.319150447845459\n"
     ]
    }
   ],
   "source": [
    "print(\"Time to train model:\",t2-t1)\n",
    "print(\"Time to compute SHAP values:\",t3-t2)"
   ]
  },
  {
   "cell_type": "code",
   "execution_count": null,
   "metadata": {},
   "outputs": [],
   "source": []
  },
  {
   "cell_type": "code",
   "execution_count": null,
   "metadata": {},
   "outputs": [],
   "source": []
  },
  {
   "cell_type": "code",
   "execution_count": null,
   "metadata": {},
   "outputs": [],
   "source": []
  },
  {
   "cell_type": "code",
   "execution_count": 30,
   "metadata": {},
   "outputs": [
    {
     "data": {
      "application/vnd.jupyter.widget-view+json": {
       "model_id": "20b64e9f6d7e4ca7a36f0e944c5dbe66",
       "version_major": 2,
       "version_minor": 0
      },
      "text/plain": [
       "HBox(children=(FloatProgress(value=0.0, max=1617.0), HTML(value='')))"
      ]
     },
     "metadata": {},
     "output_type": "display_data"
    },
    {
     "name": "stdout",
     "output_type": "stream",
     "text": [
      "\n"
     ]
    }
   ],
   "source": [
    "t1 = time.time()\n",
    "\n",
    "rd = KernelRidge().fit(X, Y)\n",
    "\n",
    "t2 = time.time()\n",
    "\n",
    "exp = shap.KernelExplainer(rd.predict, shap.sample(X, 30))\n",
    "s_vals = exp.shap_values(X, nsamples=30)\n",
    "ov_shap = np.mean(np.abs(s_vals), axis=0)\n",
    "\n",
    "t3 = time.time()"
   ]
  },
  {
   "cell_type": "code",
   "execution_count": 31,
   "metadata": {},
   "outputs": [
    {
     "name": "stdout",
     "output_type": "stream",
     "text": [
      "Time to train model: 0.1050872802734375\n",
      "Time to compute SHAP values: 551.5335009098053\n"
     ]
    }
   ],
   "source": [
    "print(\"Time to train model:\",t2-t1)\n",
    "print(\"Time to compute SHAP values:\",t3-t2)"
   ]
  },
  {
   "cell_type": "code",
   "execution_count": null,
   "metadata": {},
   "outputs": [],
   "source": []
  },
  {
   "cell_type": "code",
   "execution_count": 32,
   "metadata": {},
   "outputs": [
    {
     "name": "stdout",
     "output_type": "stream",
     "text": [
      "Explainer done\n"
     ]
    },
    {
     "data": {
      "application/vnd.jupyter.widget-view+json": {
       "model_id": "ab2e2cd85d13421c893538dc261b588b",
       "version_major": 2,
       "version_minor": 0
      },
      "text/plain": [
       "HBox(children=(FloatProgress(value=0.0, max=1617.0), HTML(value='')))"
      ]
     },
     "metadata": {},
     "output_type": "display_data"
    },
    {
     "name": "stdout",
     "output_type": "stream",
     "text": [
      "\n"
     ]
    }
   ],
   "source": [
    "t1 = time.time()\n",
    "\n",
    "pca = PCA(n_components=10)\n",
    "pca.fit(X)\n",
    "comps = pca.components_\n",
    "X_r = (comps @ X.T).T\n",
    "\n",
    "rx = KernelRidge().fit(X_r, Y)\n",
    "\n",
    "t2 = time.time()\n",
    "\n",
    "exp = shap.KernelExplainer(rx.predict, shap.sample(X_r, 30))\n",
    "print(\"Explainer done\")\n",
    "s_vals = exp.shap_values(X_r, nsamples=30)\n",
    "ov_reduced_shap = mean_carried_shap(s_vals, pca.components_, X)\n",
    "\n",
    "t3 = time.time()"
   ]
  },
  {
   "cell_type": "code",
   "execution_count": 33,
   "metadata": {},
   "outputs": [
    {
     "name": "stdout",
     "output_type": "stream",
     "text": [
      "Time to train model: 0.09407877922058105\n",
      "Time to compute SHAP values: 32.37304377555847\n"
     ]
    }
   ],
   "source": [
    "print(\"Time to train model:\",t2-t1)\n",
    "print(\"Time to compute SHAP values:\",t3-t2)"
   ]
  },
  {
   "cell_type": "code",
   "execution_count": null,
   "metadata": {},
   "outputs": [],
   "source": []
  },
  {
   "cell_type": "code",
   "execution_count": null,
   "metadata": {},
   "outputs": [],
   "source": []
  },
  {
   "cell_type": "code",
   "execution_count": 40,
   "metadata": {},
   "outputs": [],
   "source": [
    "rrows = np.random.randint(0, X.shape[0], size=100)\n",
    "\n",
    "Xsub = X[rrows,:]"
   ]
  },
  {
   "cell_type": "code",
   "execution_count": 81,
   "metadata": {},
   "outputs": [],
   "source": [
    "t1 = time.time()\n",
    "\n",
    "mlp = MLPRegressor(hidden_layer_sizes=(128, 64, 32, 8 ), random_state=rstate, max_iter=2000, learning_rate='adaptive', shuffle=True).fit(X, Y)\n",
    "\n",
    "t2 = time.time()\n",
    "\n",
    "# exp = shap.Explainer(mlp.predict, Xsub)\n",
    "# s_vals = exp(Xsub)\n",
    "# ov_shap = np.mean(np.abs(s_vals.values), axis=0)\n",
    "\n",
    "# t3 = time.time()"
   ]
  },
  {
   "cell_type": "code",
   "execution_count": 82,
   "metadata": {},
   "outputs": [
    {
     "name": "stdout",
     "output_type": "stream",
     "text": [
      "Time to train model: 0.8252248764038086\n",
      "Time to compute SHAP values: -55081.16129231453\n"
     ]
    }
   ],
   "source": [
    "print(\"Time to train model:\",t2-t1)\n",
    "print(\"Time to compute SHAP values:\",t3-t2)"
   ]
  },
  {
   "cell_type": "code",
   "execution_count": 77,
   "metadata": {},
   "outputs": [],
   "source": [
    "t1 = time.time()\n",
    "\n",
    "pca = PCA(n_components=50)\n",
    "pca.fit(X)\n",
    "comps = pca.components_\n",
    "X_r = (comps @ X.T).T\n",
    "Xr_sub = X_r[rrows,:]\n",
    "\n",
    "mlp = MLPRegressor(hidden_layer_sizes=(128, 64, 32, 8), random_state=rstate, max_iter=2000, learning_rate='adaptive', shuffle=True).fit(X_r, Y)\n",
    "\n",
    "t2 = time.time()\n",
    "\n",
    "# expr = shap.Explainer(mlp.predict, Xr_sub)\n",
    "# s_valsr = expr(Xr_sub)\n",
    "\n",
    "# t3 = time.time()"
   ]
  },
  {
   "cell_type": "code",
   "execution_count": 78,
   "metadata": {},
   "outputs": [
    {
     "name": "stdout",
     "output_type": "stream",
     "text": [
      "Time to train model: 1.6799993515014648\n",
      "Time to compute SHAP values: -55064.79333472252\n"
     ]
    }
   ],
   "source": [
    "print(\"Time to train model:\",t2-t1)\n",
    "print(\"Time to compute SHAP values:\",t3-t2)"
   ]
  },
  {
   "cell_type": "code",
   "execution_count": null,
   "metadata": {},
   "outputs": [],
   "source": []
  },
  {
   "cell_type": "code",
   "execution_count": null,
   "metadata": {},
   "outputs": [],
   "source": []
  },
  {
   "cell_type": "code",
   "execution_count": 91,
   "metadata": {},
   "outputs": [],
   "source": [
    "t1 = time.time()\n",
    "\n",
    "rd = LinearRegression()\n",
    "rd.fit(X, Y)\n",
    "\n",
    "t2 = time.time()\n",
    "\n",
    "exp = shap.LinearExplainer(rd, X)\n",
    "s_vals = exp.shap_values(X)\n",
    "ov_shap = np.mean(np.abs(s_vals), axis=0)\n",
    "\n",
    "t3 = time.time()"
   ]
  },
  {
   "cell_type": "code",
   "execution_count": 92,
   "metadata": {},
   "outputs": [
    {
     "name": "stdout",
     "output_type": "stream",
     "text": [
      "Time to train model: 0.024019718170166016\n",
      "Time to compute SHAP values: 0.009007453918457031\n"
     ]
    }
   ],
   "source": [
    "print(\"Time to train model:\",t2-t1)\n",
    "print(\"Time to compute SHAP values:\",t3-t2)"
   ]
  },
  {
   "cell_type": "code",
   "execution_count": null,
   "metadata": {},
   "outputs": [],
   "source": []
  },
  {
   "cell_type": "code",
   "execution_count": 93,
   "metadata": {},
   "outputs": [],
   "source": [
    "t1 = time.time()\n",
    "\n",
    "pca = PCA(n_components=50)\n",
    "pca.fit(X)\n",
    "comps = pca.components_\n",
    "X_r = (comps @ X.T).T\n",
    "\n",
    "rd = LinearRegression()\n",
    "rd.fit(X_r, Y)\n",
    "\n",
    "t2 = time.time()\n",
    "\n",
    "exp = shap.LinearExplainer(rd, X_r)\n",
    "s_vals = exp.shap_values(X_r)\n",
    "ov_reduced_shap = mean_carried_shap(s_vals, pca.components_, X)\n",
    "\n",
    "t3 = time.time()"
   ]
  },
  {
   "cell_type": "code",
   "execution_count": 94,
   "metadata": {},
   "outputs": [
    {
     "name": "stdout",
     "output_type": "stream",
     "text": [
      "Time to train model: 0.020017147064208984\n",
      "Time to compute SHAP values: 0.0220181941986084\n"
     ]
    }
   ],
   "source": [
    "print(\"Time to train model:\",t2-t1)\n",
    "print(\"Time to compute SHAP values:\",t3-t2)"
   ]
  },
  {
   "cell_type": "code",
   "execution_count": null,
   "metadata": {},
   "outputs": [],
   "source": []
  },
  {
   "cell_type": "code",
   "execution_count": null,
   "metadata": {},
   "outputs": [],
   "source": []
  },
  {
   "cell_type": "code",
   "execution_count": null,
   "metadata": {},
   "outputs": [],
   "source": []
  },
  {
   "cell_type": "code",
   "execution_count": 87,
   "metadata": {},
   "outputs": [],
   "source": [
    "t1 = time.time()\n",
    "\n",
    "rd = DecisionTreeRegressor()\n",
    "rd.fit(X, Y)\n",
    "\n",
    "t2 = time.time()\n",
    "\n",
    "exp = shap.TreeExplainer(rd, X)\n",
    "s_vals = exp.shap_values(X)\n",
    "ov_shap = np.mean(np.abs(s_vals), axis=0)\n",
    "\n",
    "t3 = time.time()"
   ]
  },
  {
   "cell_type": "code",
   "execution_count": 88,
   "metadata": {},
   "outputs": [
    {
     "name": "stdout",
     "output_type": "stream",
     "text": [
      "Time to train model: 0.14662623405456543\n",
      "Time to compute SHAP values: 0.996739387512207\n"
     ]
    }
   ],
   "source": [
    "print(\"Time to train model:\",t2-t1)\n",
    "print(\"Time to compute SHAP values:\",t3-t2)"
   ]
  },
  {
   "cell_type": "code",
   "execution_count": null,
   "metadata": {},
   "outputs": [],
   "source": []
  },
  {
   "cell_type": "code",
   "execution_count": 89,
   "metadata": {},
   "outputs": [],
   "source": [
    "t1 = time.time()\n",
    "\n",
    "pca = PCA(n_components=50)\n",
    "pca.fit(X)\n",
    "comps = pca.components_\n",
    "X_r = (comps @ X.T).T\n",
    "\n",
    "rd = DecisionTreeRegressor()\n",
    "rd.fit(X_r, Y)\n",
    "\n",
    "t2 = time.time()\n",
    "\n",
    "exp = shap.TreeExplainer(rd, X_r)\n",
    "s_vals = exp.shap_values(X_r)\n",
    "ov_reduced_shap = mean_carried_shap(s_vals, pca.components_, X)\n",
    "\n",
    "t3 = time.time()"
   ]
  },
  {
   "cell_type": "code",
   "execution_count": 90,
   "metadata": {},
   "outputs": [
    {
     "name": "stdout",
     "output_type": "stream",
     "text": [
      "Time to train model: 0.0710597038269043\n",
      "Time to compute SHAP values: 0.4658963680267334\n"
     ]
    }
   ],
   "source": [
    "print(\"Time to train model:\",t2-t1)\n",
    "print(\"Time to compute SHAP values:\",t3-t2)"
   ]
  },
  {
   "cell_type": "code",
   "execution_count": null,
   "metadata": {},
   "outputs": [],
   "source": []
  }
 ],
 "metadata": {
  "kernelspec": {
   "display_name": "Python 3",
   "language": "python",
   "name": "python3"
  },
  "language_info": {
   "codemirror_mode": {
    "name": "ipython",
    "version": 3
   },
   "file_extension": ".py",
   "mimetype": "text/x-python",
   "name": "python",
   "nbconvert_exporter": "python",
   "pygments_lexer": "ipython3",
   "version": "3.8.5"
  }
 },
 "nbformat": 4,
 "nbformat_minor": 4
}
