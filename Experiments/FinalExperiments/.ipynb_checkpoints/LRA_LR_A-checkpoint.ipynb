{
 "cells": [
  {
   "cell_type": "code",
   "execution_count": 1,
   "metadata": {},
   "outputs": [
    {
     "name": "stderr",
     "output_type": "stream",
     "text": [
      "C:\\Users\\tommy\\AppData\\Roaming\\Python\\Python37\\site-packages\\tensorflow\\python\\framework\\dtypes.py:516: FutureWarning: Passing (type, 1) or '1type' as a synonym of type is deprecated; in a future version of numpy, it will be understood as (type, (1,)) / '(1,)type'.\n",
      "  _np_qint8 = np.dtype([(\"qint8\", np.int8, 1)])\n",
      "C:\\Users\\tommy\\AppData\\Roaming\\Python\\Python37\\site-packages\\tensorflow\\python\\framework\\dtypes.py:517: FutureWarning: Passing (type, 1) or '1type' as a synonym of type is deprecated; in a future version of numpy, it will be understood as (type, (1,)) / '(1,)type'.\n",
      "  _np_quint8 = np.dtype([(\"quint8\", np.uint8, 1)])\n",
      "C:\\Users\\tommy\\AppData\\Roaming\\Python\\Python37\\site-packages\\tensorflow\\python\\framework\\dtypes.py:518: FutureWarning: Passing (type, 1) or '1type' as a synonym of type is deprecated; in a future version of numpy, it will be understood as (type, (1,)) / '(1,)type'.\n",
      "  _np_qint16 = np.dtype([(\"qint16\", np.int16, 1)])\n",
      "C:\\Users\\tommy\\AppData\\Roaming\\Python\\Python37\\site-packages\\tensorflow\\python\\framework\\dtypes.py:519: FutureWarning: Passing (type, 1) or '1type' as a synonym of type is deprecated; in a future version of numpy, it will be understood as (type, (1,)) / '(1,)type'.\n",
      "  _np_quint16 = np.dtype([(\"quint16\", np.uint16, 1)])\n",
      "C:\\Users\\tommy\\AppData\\Roaming\\Python\\Python37\\site-packages\\tensorflow\\python\\framework\\dtypes.py:520: FutureWarning: Passing (type, 1) or '1type' as a synonym of type is deprecated; in a future version of numpy, it will be understood as (type, (1,)) / '(1,)type'.\n",
      "  _np_qint32 = np.dtype([(\"qint32\", np.int32, 1)])\n",
      "C:\\Users\\tommy\\AppData\\Roaming\\Python\\Python37\\site-packages\\tensorflow\\python\\framework\\dtypes.py:525: FutureWarning: Passing (type, 1) or '1type' as a synonym of type is deprecated; in a future version of numpy, it will be understood as (type, (1,)) / '(1,)type'.\n",
      "  np_resource = np.dtype([(\"resource\", np.ubyte, 1)])\n",
      "C:\\Users\\tommy\\AppData\\Roaming\\Python\\Python37\\site-packages\\tensorboard\\compat\\tensorflow_stub\\dtypes.py:541: FutureWarning: Passing (type, 1) or '1type' as a synonym of type is deprecated; in a future version of numpy, it will be understood as (type, (1,)) / '(1,)type'.\n",
      "  _np_qint8 = np.dtype([(\"qint8\", np.int8, 1)])\n",
      "C:\\Users\\tommy\\AppData\\Roaming\\Python\\Python37\\site-packages\\tensorboard\\compat\\tensorflow_stub\\dtypes.py:542: FutureWarning: Passing (type, 1) or '1type' as a synonym of type is deprecated; in a future version of numpy, it will be understood as (type, (1,)) / '(1,)type'.\n",
      "  _np_quint8 = np.dtype([(\"quint8\", np.uint8, 1)])\n",
      "C:\\Users\\tommy\\AppData\\Roaming\\Python\\Python37\\site-packages\\tensorboard\\compat\\tensorflow_stub\\dtypes.py:543: FutureWarning: Passing (type, 1) or '1type' as a synonym of type is deprecated; in a future version of numpy, it will be understood as (type, (1,)) / '(1,)type'.\n",
      "  _np_qint16 = np.dtype([(\"qint16\", np.int16, 1)])\n",
      "C:\\Users\\tommy\\AppData\\Roaming\\Python\\Python37\\site-packages\\tensorboard\\compat\\tensorflow_stub\\dtypes.py:544: FutureWarning: Passing (type, 1) or '1type' as a synonym of type is deprecated; in a future version of numpy, it will be understood as (type, (1,)) / '(1,)type'.\n",
      "  _np_quint16 = np.dtype([(\"quint16\", np.uint16, 1)])\n",
      "C:\\Users\\tommy\\AppData\\Roaming\\Python\\Python37\\site-packages\\tensorboard\\compat\\tensorflow_stub\\dtypes.py:545: FutureWarning: Passing (type, 1) or '1type' as a synonym of type is deprecated; in a future version of numpy, it will be understood as (type, (1,)) / '(1,)type'.\n",
      "  _np_qint32 = np.dtype([(\"qint32\", np.int32, 1)])\n",
      "C:\\Users\\tommy\\AppData\\Roaming\\Python\\Python37\\site-packages\\tensorboard\\compat\\tensorflow_stub\\dtypes.py:550: FutureWarning: Passing (type, 1) or '1type' as a synonym of type is deprecated; in a future version of numpy, it will be understood as (type, (1,)) / '(1,)type'.\n",
      "  np_resource = np.dtype([(\"resource\", np.ubyte, 1)])\n"
     ]
    },
    {
     "ename": "ModuleNotFoundError",
     "evalue": "No module named 'iterative_spectral_method'",
     "output_type": "error",
     "traceback": [
      "\u001b[1;31m---------------------------------------------------------------------------\u001b[0m",
      "\u001b[1;31mModuleNotFoundError\u001b[0m                       Traceback (most recent call last)",
      "\u001b[1;32m<ipython-input-1-7470ed16f47b>\u001b[0m in \u001b[0;36m<module>\u001b[1;34m\u001b[0m\n\u001b[0;32m     30\u001b[0m \u001b[1;32mfrom\u001b[0m \u001b[0mLibHelperFuncs\u001b[0m \u001b[1;32mimport\u001b[0m \u001b[1;33m*\u001b[0m\u001b[1;33m\u001b[0m\u001b[1;33m\u001b[0m\u001b[0m\n\u001b[0;32m     31\u001b[0m \u001b[1;33m\u001b[0m\u001b[0m\n\u001b[1;32m---> 32\u001b[1;33m \u001b[1;32mfrom\u001b[0m \u001b[0miterative_spectral_method\u001b[0m\u001b[1;33m.\u001b[0m\u001b[0msrc\u001b[0m \u001b[1;32mimport\u001b[0m \u001b[1;33m*\u001b[0m\u001b[1;33m\u001b[0m\u001b[1;33m\u001b[0m\u001b[0m\n\u001b[0m\u001b[0;32m     33\u001b[0m \u001b[1;32mfrom\u001b[0m \u001b[0miterative_spectral_method\u001b[0m\u001b[1;33m.\u001b[0m\u001b[0msdr\u001b[0m \u001b[1;32mimport\u001b[0m \u001b[1;33m*\u001b[0m\u001b[1;33m\u001b[0m\u001b[1;33m\u001b[0m\u001b[0m\n\u001b[0;32m     34\u001b[0m \u001b[1;33m\u001b[0m\u001b[0m\n",
      "\u001b[1;31mModuleNotFoundError\u001b[0m: No module named 'iterative_spectral_method'"
     ]
    }
   ],
   "source": [
    "import numpy as np\n",
    "import pandas as pd\n",
    "from sklearn.decomposition import PCA\n",
    "import matplotlib.pyplot as plt\n",
    "from sklearn.manifold import MDS\n",
    "from sklearn.manifold import TSNE\n",
    "import copy\n",
    "from sklearn.linear_model import LinearRegression\n",
    "from sklearn.model_selection import train_test_split\n",
    "from sklearn.model_selection import cross_val_score\n",
    "from sklearn.decomposition import SparsePCA\n",
    "from sklearn.ensemble import ExtraTreesRegressor\n",
    "from sklearn.decomposition import NMF\n",
    "from sklearn.ensemble import RandomForestRegressor\n",
    "import subprocess\n",
    "from sklearn.model_selection import RandomizedSearchCV\n",
    "import sys\n",
    "import math\n",
    "import scipy.spatial.distance\n",
    "from sklearn.metrics.pairwise import pairwise_distances\n",
    "from sklearn.tree import DecisionTreeRegressor\n",
    "import os\n",
    "import shutil\n",
    "import glob\n",
    "import shap\n",
    "from scipy.stats import pearsonr\n",
    "\n",
    "cmap='viridis'\n",
    "sys.path.insert(1, '../')\n",
    "from LibHelperFuncs import *\n",
    "\n",
    "rstate = 0\n",
    "np.random.seed(0)\n",
    "njob = 20\n",
    "global_trees = 100\n",
    "\n",
    "plt.rcParams['axes.grid'] = False"
   ]
  },
  {
   "cell_type": "code",
   "execution_count": null,
   "metadata": {},
   "outputs": [],
   "source": [
    "originalDat = np.genfromtxt(\"../../Data/data_bas_preprocessing.csv\", delimiter=',')\n",
    "originalDat_pd = pd.read_csv(\"../../Data/data_bas_preprocessing_pd.csv\")\n",
    "\n",
    "X = originalDat[:,:-1]\n",
    "Y = originalDat[:,-1]\n",
    "C = originalDat_pd.columns\n",
    "\n",
    "lower_thres = 1e-3\n",
    "\n",
    "files = []\n",
    "objectives = ['ISM_gaus_homogeneous_0.5.csv', 'pca_sparse_homogeneous_0.5.csv',\\\n",
    "              \"ISM_squa_homogeneous_0.5.csv\", \"ISM_poly_homogeneous_0.5.csv\",\\\n",
    "              'pca_standard.csv', 'nmf_H_matrix_homogeneous_0.5.csv', 'pca_homogeneous_0.5.csv']"
   ]
  },
  {
   "cell_type": "code",
   "execution_count": null,
   "metadata": {},
   "outputs": [],
   "source": [
    "def compute_carried_shap(s_vals, comps, X):\n",
    "    shap_values_r = np.arange(0, X.shape[0]).reshape(-1, 1)\n",
    "    carried_shap_vals = np.apply_along_axis((lambda x : s_vals[x].reshape(-1, 1).T @ comps), 1, shap_values_r).reshape(-1, X.shape[1])\n",
    "    return carried_shap_vals\n",
    "\n",
    "def mean_carried_shap(s_vals, comps, X):\n",
    "    \n",
    "    sump = np.sqrt(np.mean(comps ** 2, axis=0))\n",
    "    sump[np.where(sump == 0)[0]] = 1\n",
    "    sump = sump ** 2\n",
    "    sump[np.where(sump < 1e-8)[0]] = 1\n",
    "    \n",
    "    t = compute_carried_shap(s_vals, comps, X) / sump\n",
    "    return np.mean(np.abs(t), axis=0) "
   ]
  },
  {
   "cell_type": "code",
   "execution_count": null,
   "metadata": {},
   "outputs": [],
   "source": [
    "rf = LinearRegression()\n",
    "rf.fit(X, Y)\n",
    "\n",
    "exp = shap.LinearExplainer(rf, X)\n",
    "s_vals = exp.shap_values(X)\n",
    "ov_shap = np.mean(np.abs(s_vals), axis=0)"
   ]
  },
  {
   "cell_type": "code",
   "execution_count": null,
   "metadata": {},
   "outputs": [],
   "source": [
    "pca = PCA(n_components=50)\n",
    "pca.fit(X)\n",
    "comps = pca.components_\n",
    "X_r = (comps @ X.T).T\n",
    "\n",
    "rf = LinearRegression()\n",
    "rf.fit(X_r, Y)\n",
    "\n",
    "exp = shap.LinearExplainer(rf, X_r)\n",
    "s_vals = exp.shap_values(X_r)\n",
    "ov_reduced_shap = mean_carried_shap(s_vals, pca.components_, X)"
   ]
  },
  {
   "cell_type": "code",
   "execution_count": null,
   "metadata": {},
   "outputs": [],
   "source": [
    "urscorecv=[]\n",
    "rscorecv=[]\n",
    "urscorel2=[]\n",
    "rscorel2=[]\n",
    "\n",
    "renge = range(1, X.shape[1])\n",
    "\n",
    "for k in renge:\n",
    "    if (k % 10 == 0):\n",
    "        print(k)\n",
    "    X_l = X[:,np.argsort(ov_shap)[::-1][:k]]\n",
    "\n",
    "    rf = LinearRegression()\n",
    "\n",
    "    rf.fit(X_l, Y)\n",
    "    urscorel2.append(model_eval(X_l, Y, rf, rstate=rstate))\n",
    "    urscorecv.append(linereg_model_crosseval(X_l, Y))\n",
    "\n",
    "    X_r = X[:,np.argsort(ov_reduced_shap)[::-1][:k]]\n",
    "\n",
    "    rf = LinearRegression()\n",
    "\n",
    "    rf.fit(X_r, Y)\n",
    "    rscorel2.append(model_eval(X_r, Y, rf, rstate=rstate))\n",
    "    rscorecv.append(linereg_model_crosseval(X_r, Y))"
   ]
  },
  {
   "cell_type": "code",
   "execution_count": null,
   "metadata": {},
   "outputs": [],
   "source": [
    "plt.figure(figsize=(12,10))\n",
    "\n",
    "plt.plot(renge, urscorecv, label = 'Unreduced')\n",
    "plt.plot(renge, rscorecv, label='Reduced')\n",
    "\n",
    "plt.xlabel('Number of features', fontsize=24)\n",
    "plt.ylabel(\"Cross Validated RMSE Value\", fontsize=24)\n",
    "\n",
    "plt.xlim([0, 100])\n",
    "\n",
    "plt.xticks(fontsize=18)\n",
    "plt.yticks(fontsize=18)\n",
    "\n",
    "plt.legend(fontsize=24)\n",
    "\n",
    "print(min(urscorecv), min(rscorecv))\n",
    "print(max(urscorecv), max(rscorecv))\n",
    "\n",
    "plt.savefig(\"../../Writeups/Figures/LRA_LR_CV_full.pdf\", bbox_inches='tight')"
   ]
  },
  {
   "cell_type": "code",
   "execution_count": null,
   "metadata": {},
   "outputs": [],
   "source": [
    "plt.figure(figsize=(12,10))\n",
    "\n",
    "plt.plot(renge, urscorecv / np.max(urscorecv), label = 'Unreduced')\n",
    "plt.plot(renge, rscorecv / np.max(rscorecv), label='Reduced')\n",
    "\n",
    "plt.xlabel('Number of features', fontsize=24)\n",
    "plt.ylabel(\"Normalised CV score\", fontsize=24)\n",
    "\n",
    "plt.xlim([0, 100])\n",
    "\n",
    "plt.xticks(fontsize=18)\n",
    "plt.yticks(fontsize=18)\n",
    "\n",
    "plt.legend(fontsize=24)\n",
    "\n",
    "print(min(urscorecv), min(rscorecv))\n",
    "print(max(urscorecv), max(rscorecv))\n",
    "\n",
    "plt.savefig(\"../../Writeups/Figures/LRA_LR_CV_full_r.pdf\", bbox_inches='tight')"
   ]
  },
  {
   "cell_type": "code",
   "execution_count": null,
   "metadata": {},
   "outputs": [],
   "source": [
    "np.argmin(rscorecv), np.argmin(urscorecv)"
   ]
  },
  {
   "cell_type": "code",
   "execution_count": null,
   "metadata": {},
   "outputs": [],
   "source": [
    "plt.figure(figsize=(12,10))\n",
    "\n",
    "plt.plot(renge, urscorel2, label = 'Unreduced')\n",
    "plt.plot(renge, rscorel2, label='Reduced')\n",
    "\n",
    "plt.xlabel('Number of features', fontsize=24)\n",
    "plt.ylabel(\"RMSE Value\", fontsize=24)\n",
    "\n",
    "plt.ylim([0,0.2])\n",
    "\n",
    "plt.xticks(fontsize=18)\n",
    "plt.yticks(fontsize=18)\n",
    "\n",
    "plt.legend(fontsize=24)\n",
    "\n",
    "print(min(urscorel2), min(rscorel2))\n",
    "\n",
    "plt.savefig(\"../../Writeups/Figures/LRA_LR_testing_full.pdf\", bbox_inches='tight')"
   ]
  },
  {
   "cell_type": "code",
   "execution_count": null,
   "metadata": {},
   "outputs": [],
   "source": []
  }
 ],
 "metadata": {
  "kernelspec": {
   "display_name": "Python 3",
   "language": "python",
   "name": "python3"
  },
  "language_info": {
   "codemirror_mode": {
    "name": "ipython",
    "version": 3
   },
   "file_extension": ".py",
   "mimetype": "text/x-python",
   "name": "python",
   "nbconvert_exporter": "python",
   "pygments_lexer": "ipython3",
   "version": "3.7.3"
  }
 },
 "nbformat": 4,
 "nbformat_minor": 4
}
