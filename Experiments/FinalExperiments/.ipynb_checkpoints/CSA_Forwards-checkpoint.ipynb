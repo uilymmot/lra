{
 "cells": [
  {
   "cell_type": "code",
   "execution_count": 1,
   "metadata": {},
   "outputs": [],
   "source": [
    "import numpy as np\n",
    "import pandas as pd\n",
    "from sklearn.decomposition import PCA\n",
    "import matplotlib.pyplot as plt\n",
    "from sklearn.manifold import MDS\n",
    "from sklearn.manifold import TSNE\n",
    "import copy\n",
    "from sklearn.linear_model import LinearRegression\n",
    "from sklearn.model_selection import train_test_split\n",
    "from sklearn.model_selection import cross_val_score\n",
    "from sklearn.decomposition import SparsePCA\n",
    "from sklearn.ensemble import ExtraTreesRegressor\n",
    "from sklearn.decomposition import NMF\n",
    "from sklearn.ensemble import RandomForestRegressor\n",
    "import subprocess\n",
    "from sklearn.model_selection import RandomizedSearchCV\n",
    "import sys\n",
    "import math\n",
    "import scipy.spatial.distance\n",
    "from sklearn.metrics.pairwise import pairwise_distances\n",
    "from sklearn.tree import DecisionTreeRegressor\n",
    "import os\n",
    "import shutil\n",
    "import glob\n",
    "import shap\n",
    "\n",
    "\n",
    "cmap='viridis'\n",
    "sys.path.insert(1, '../')\n",
    "from LibHelperFuncs import *\n",
    "\n",
    "from iterative_spectral_method.src import *\n",
    "from iterative_spectral_method.sdr import *\n",
    "\n",
    "rstate = 0\n",
    "np.random.seed(44164)\n",
    "njob = 22\n",
    "\n",
    "global_components = 50\n",
    "global_trees = 100\n",
    "\n",
    "steps = np.linspace(0.05, 1, 20)"
   ]
  },
  {
   "cell_type": "code",
   "execution_count": 2,
   "metadata": {},
   "outputs": [],
   "source": [
    "originalDat = np.genfromtxt(\"../../Data/data_bas_preprocessing.csv\", delimiter=',')\n",
    "originalDat_pd = pd.read_csv(\"../../Data/data_bas_preprocessing_pd.csv\")\n",
    "\n",
    "X = originalDat[:,:-1].T\n",
    "np.random.shuffle(X)\n",
    "X = X.T\n",
    "# np.random.shuffle(X)\n",
    "Y = originalDat[:,-1]\n",
    "C = originalDat_pd.columns\n",
    "\n",
    "lower_thres = 1e-3\n",
    "\n",
    "files = []\n",
    "objectives = ['ISM_gaus_homogeneous_0.5.csv', 'pca_sparse_0.5.csv',\\\n",
    "              \"ISM_poly_homogeneous_0.5.csv\", 'nmf_H_matrix_homogeneous_0.5.csv', 'pca_homogeneous_0.5.csv']"
   ]
  },
  {
   "cell_type": "code",
   "execution_count": 3,
   "metadata": {},
   "outputs": [
    {
     "name": "stdout",
     "output_type": "stream",
     "text": [
      "L1 loss: 0.0093842319109461\n",
      "L2 loss: 0.013552134081123516\n",
      "L3 loss: 0.008738410330718663\n",
      "L infinity loss: 0.10654500000000588\n",
      "5 Fold CV L2 loss: 0.0012638723009328584\n"
     ]
    }
   ],
   "source": [
    "rf_params = dict()\n",
    "rf_params['n_estimators'] = global_trees\n",
    "\n",
    "rf = RandomForestRegressor(**rf_params, n_jobs=njob, random_state=rstate)\n",
    "rf.fit(X, Y)\n",
    "\n",
    "print(\"L1 loss:\", np.mean(np.abs((rf.predict(X) - Y))))\n",
    "print(\"L2 loss:\", np.sqrt(np.mean((rf.predict(X) - Y) ** 2)))\n",
    "print(\"L3 loss:\", np.cbrt(np.mean((rf.predict(X) - Y) ** 3)))\n",
    "print(\"L infinity loss:\", np.max(np.abs(rf.predict(X) - Y)))\n",
    "\n",
    "score = cross_val_score(rf, X, Y, cv=5, n_jobs=-1, scoring='neg_mean_squared_error')\n",
    "print(\"5 Fold CV L2 loss:\", np.abs(np.mean(score)))"
   ]
  },
  {
   "cell_type": "code",
   "execution_count": 4,
   "metadata": {},
   "outputs": [
    {
     "name": "stdout",
     "output_type": "stream",
     "text": [
      "[  2   5  11  12  19  26  30  31  37  40  41  43  44  51  52  54  55  59\n",
      "  60  63  70  72  73  77  78  87  89  93  99 105 107 113 116 117 118 127\n",
      " 129 134 135 136 142 145 148 149 150 152 153 156 157 158 161 163 167 174\n",
      " 180 181 184 185 187 188 190 191 192 196 202 205 210 214 216 221 223 224\n",
      " 225 228 236 237 239 241 242 243 249 256 258 265 267 271 273 283 288 289\n",
      " 290 303 305 307 310 313 316 319 320 321 325 326 330 345 346 347 348 352\n",
      " 357 363 365 367 368 370 379] (1617, 390)\n",
      "[ 36  62 187 250 274] (1617, 275)\n",
      "[80] (1617, 270)\n",
      "[58] (1617, 269)\n",
      "[138] (1617, 268)\n"
     ]
    }
   ],
   "source": [
    "removed_features = []\n",
    "\n",
    "while (True):\n",
    "    \n",
    "    X_t = X\n",
    "    for rmfeatures in removed_features:\n",
    "        X_t = np.delete(X_t, rmfeatures, axis=1)\n",
    "\n",
    "    rf = RandomForestRegressor(**rf_params, n_jobs=njob, random_state=rstate)\n",
    "    rf.fit(X_t, Y)\n",
    "\n",
    "    explainerp = shap.TreeExplainer(rf, feature_perturbation='tree_path_dependant')\n",
    "    s_vals = explainerp.shap_values(X_t, approximate=True)\n",
    "\n",
    "    ov_shap = np.mean(np.abs(s_vals), axis=0)\n",
    "    removeable_features = np.where(ov_shap <= 1e-8)[0]\n",
    "    \n",
    "    if (len(removeable_features) == 0):\n",
    "        break\n",
    "    \n",
    "    removed_features.append(removeable_features)\n",
    "    \n",
    "    print(removeable_features, X_t.shape)\n",
    "    \n",
    "X_t = X\n",
    "for rmfeatures in removed_features:\n",
    "    X_t = np.delete(X_t, rmfeatures, axis=1)"
   ]
  },
  {
   "cell_type": "code",
   "execution_count": null,
   "metadata": {},
   "outputs": [],
   "source": []
  },
  {
   "cell_type": "code",
   "execution_count": 5,
   "metadata": {},
   "outputs": [
    {
     "name": "stdout",
     "output_type": "stream",
     "text": [
      "L2: 0.013544791334037624\n",
      "5 Fold CV L2 loss: 0.00126461949529529\n"
     ]
    }
   ],
   "source": [
    "rf = RandomForestRegressor(n_estimators=global_trees, n_jobs=njob, random_state=rstate) \n",
    "# rf = LinearRegression()\n",
    "rf.fit(X_t, Y)\n",
    "print(\"L2:\", np.sqrt(np.mean((rf.predict(X_t) - Y) ** 2)))\n",
    "score = cross_val_score(rf, X_t, Y, cv=5, n_jobs=njob, scoring='neg_mean_squared_error')\n",
    "print(\"5 Fold CV L2 loss:\", np.abs(np.mean(score)))"
   ]
  },
  {
   "cell_type": "code",
   "execution_count": null,
   "metadata": {},
   "outputs": [],
   "source": []
  },
  {
   "cell_type": "code",
   "execution_count": null,
   "metadata": {},
   "outputs": [],
   "source": []
  },
  {
   "cell_type": "code",
   "execution_count": null,
   "metadata": {},
   "outputs": [],
   "source": [
    "most_list = []\n",
    "stepcount = 150\n",
    "\n",
    "sc = 10\n",
    "\n",
    "X_l = X_t\n",
    "\n",
    "most_important_features = []\n",
    "\n",
    "for x in range(stepcount):\n",
    "    \n",
    "    rf = RandomForestRegressor(**rf_params, n_jobs=njob, random_state=rstate)\n",
    "    rf.fit(X_l, Y)\n",
    "\n",
    "    explainerp = shap.TreeExplainer(rf, feature_perturbation='tree_path_dependant')\n",
    "    s_vals = explainerp.shap_values(X_l, approximate=True)\n",
    "    \n",
    "    ov_shap_vals = np.mean(np.abs(s_vals), axis=0)\n",
    "    \n",
    "    most_important_features = np.argsort(ov_shap_vals)[::-1][:sc]\n",
    "    \n",
    "    most_list.extend(list(most_important_features))\n",
    "    \n",
    "    for lllist in most_important_features:\n",
    "        X_l = np.delete(X_l, lllist, axis=1)\n",
    "        \n",
    "    print(most_important_features)"
   ]
  },
  {
   "cell_type": "code",
   "execution_count": 24,
   "metadata": {},
   "outputs": [
    {
     "data": {
      "text/plain": [
       "(1617, 162)"
      ]
     },
     "execution_count": 24,
     "metadata": {},
     "output_type": "execute_result"
    }
   ],
   "source": [
    "X_l.shape"
   ]
  },
  {
   "cell_type": "code",
   "execution_count": 25,
   "metadata": {},
   "outputs": [
    {
     "data": {
      "text/plain": [
       "array([ 59, 151, 149, 100, 153, 165,  85, 120, 107,  51], dtype=int64)"
      ]
     },
     "execution_count": 25,
     "metadata": {},
     "output_type": "execute_result"
    }
   ],
   "source": [
    "most_important_features"
   ]
  },
  {
   "cell_type": "code",
   "execution_count": 27,
   "metadata": {},
   "outputs": [
    {
     "data": {
      "text/plain": [
       "(1617, 167)"
      ]
     },
     "execution_count": 27,
     "metadata": {},
     "output_type": "execute_result"
    }
   ],
   "source": [
    "s_vals.shape"
   ]
  },
  {
   "cell_type": "code",
   "execution_count": null,
   "metadata": {},
   "outputs": [],
   "source": []
  },
  {
   "cell_type": "code",
   "execution_count": 22,
   "metadata": {},
   "outputs": [],
   "source": [
    "X_l = np.delete(X_l, 0, axis=0)"
   ]
  },
  {
   "cell_type": "code",
   "execution_count": null,
   "metadata": {},
   "outputs": [],
   "source": []
  },
  {
   "cell_type": "code",
   "execution_count": null,
   "metadata": {},
   "outputs": [],
   "source": [
    "X_k = []\n",
    "cvscoreslist = []\n",
    "l2scoreslist= []\n",
    "\n",
    "X_l = X_t\n",
    "\n",
    "\n",
    "counter = 0\n",
    "for i in most_list:\n",
    "    counter+=1\n",
    "    if (counter % 10 == 0):\n",
    "        print(counter)\n",
    "    \n",
    "    X_k.append(X_l[:,i])\n",
    "    X_l = np.delete(X_l, i, axis=1)\n",
    "\n",
    "    X_testing = np.array(X_k).T\n",
    "    \n",
    "    rf = RandomForestRegressor(n_estimators=global_trees, n_jobs=njob, random_state=rstate) \n",
    "    rf.fit(X_testing, Y)\n",
    "    l2score = np.sqrt(np.mean((rf.predict(X_testing) - Y) ** 2))\n",
    "    cvscore = cross_val_score(rf, X_testing, Y, cv=5, n_jobs=njob, scoring='neg_mean_squared_error')\n",
    "    cvscore = np.abs(np.mean(cvscore))\n",
    "    \n",
    "    cvscoreslist.append(cvscore)\n",
    "    l2scoreslist.append(l2score)"
   ]
  },
  {
   "cell_type": "code",
   "execution_count": null,
   "metadata": {},
   "outputs": [],
   "source": [
    "plt.figure(figsize=(14, 10))\n",
    "\n",
    "num_removed = np.arange(sc, stepcount * sc + 1, sc)\n",
    "plt.plot(num_removed, cvscoreslist / np.max(cvscoreslist), label = 'CV Score')\n",
    "plt.plot(num_removed, l2scoreslist / np.max(l2scoreslist), label = 'L2 Score')\n",
    "\n",
    "plt.xticks(fontsize=18)\n",
    "plt.yticks(fontsize=18)\n",
    "\n",
    "plt.legend(fontsize=24)\n",
    "\n",
    "plt.ylabel(\"Normalised Score\", fontsize=24)\n",
    "plt.xlabel(\"Number of features\", fontsize=24)\n",
    "\n",
    "plt.legend(fontsize=24)\n",
    "\n",
    "plt.savefig(\"../../Writeups/Figures/CSA_forwards_normalised_k5.pdf\", bbox_inches='tight')"
   ]
  },
  {
   "cell_type": "code",
   "execution_count": null,
   "metadata": {},
   "outputs": [],
   "source": [
    "np.min(cvscoreslist)"
   ]
  },
  {
   "cell_type": "code",
   "execution_count": null,
   "metadata": {},
   "outputs": [],
   "source": [
    "np.argsort(l2scoreslist)"
   ]
  },
  {
   "cell_type": "code",
   "execution_count": null,
   "metadata": {},
   "outputs": [],
   "source": [
    "np.argsort(cvscoreslist)"
   ]
  },
  {
   "cell_type": "code",
   "execution_count": null,
   "metadata": {},
   "outputs": [],
   "source": [
    "X_k = []\n",
    "\n",
    "X_l = X_t\n",
    "counter = 0\n",
    "for i in most_list:\n",
    "    \n",
    "    X_k.append(X_l[:,i])\n",
    "    X_l = np.delete(X_l, i, axis=1)\n",
    "\n",
    "    X_testing = np.array(X_k).T\n",
    "    if counter == np.argmin(cvscoreslist):\n",
    "        break\n",
    "        \n",
    "    counter+=1"
   ]
  },
  {
   "cell_type": "code",
   "execution_count": null,
   "metadata": {},
   "outputs": [],
   "source": [
    "\n",
    "X_k = []\n",
    "\n",
    "X_l = X_t\n",
    "counter = 0\n",
    "for i in most_list:\n",
    "    \n",
    "    X_k.append(X_l[:,i])\n",
    "    X_l = np.delete(X_l, i, axis=1)\n",
    "\n",
    "    X_testing = np.array(X_k).T\n",
    "    if counter == 6:\n",
    "        break\n",
    "        \n",
    "    counter+=1"
   ]
  },
  {
   "cell_type": "code",
   "execution_count": null,
   "metadata": {},
   "outputs": [],
   "source": [
    "rf = RandomForestRegressor(n_estimators=global_trees, n_jobs=njob, random_state=rstate) \n",
    "# rf = LinearRegression()\n",
    "rf.fit(X_testing, Y)\n",
    "print(\"L2:\", np.sqrt(np.mean((rf.predict(X_testing) - Y) ** 2)))\n",
    "score = cross_val_score(rf, X_testing, Y, cv=5, n_jobs=njob, scoring='neg_mean_squared_error')\n",
    "print(\"5 Fold CV L2 loss:\", np.abs(np.mean(score)))"
   ]
  },
  {
   "cell_type": "code",
   "execution_count": null,
   "metadata": {},
   "outputs": [],
   "source": []
  },
  {
   "cell_type": "code",
   "execution_count": null,
   "metadata": {},
   "outputs": [],
   "source": [
    "rf = RandomForestRegressor(n_estimators=5, random_state=rstate, n_jobs=-1)\n",
    "rf.fit(X, Y)\n",
    "\n",
    "exp = shap.TreeExplainer(rf, feature_perturbation='tree_path_dependant')\n",
    "s_vals = exp.shap_values(X, approximate=True)\n",
    "ov_shap = np.mean(np.abs(s_vals), axis=0)\n",
    "\n",
    "X_v = X[:,np.argsort(ov_shap)[::-1][:X_testing.shape[1]]]\n",
    "\n",
    "rf = RandomForestRegressor(n_estimators=global_trees, n_jobs=-1, random_state=rstate)\n",
    "\n",
    "rf.fit(X_v, Y)\n",
    "print(\"L2 loss:\", np.sqrt(np.mean((rf.predict(X_v) - Y) ** 2)))\n",
    "score = cross_val_score(rf, X_v, Y, cv=5, n_jobs=-1, scoring='neg_mean_squared_error')\n",
    "print(\"5 Fold CV L2 loss:\", np.abs(np.mean(score)))"
   ]
  },
  {
   "cell_type": "code",
   "execution_count": null,
   "metadata": {},
   "outputs": [],
   "source": []
  }
 ],
 "metadata": {
  "kernelspec": {
   "display_name": "Python 3",
   "language": "python",
   "name": "python3"
  },
  "language_info": {
   "codemirror_mode": {
    "name": "ipython",
    "version": 3
   },
   "file_extension": ".py",
   "mimetype": "text/x-python",
   "name": "python",
   "nbconvert_exporter": "python",
   "pygments_lexer": "ipython3",
   "version": "3.7.3"
  }
 },
 "nbformat": 4,
 "nbformat_minor": 4
}
