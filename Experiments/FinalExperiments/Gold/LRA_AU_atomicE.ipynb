{
 "cells": [
  {
   "cell_type": "code",
   "execution_count": 1,
   "metadata": {},
   "outputs": [],
   "source": [
    "import numpy as np\n",
    "import pandas as pd\n",
    "from sklearn.decomposition import PCA\n",
    "import matplotlib.pyplot as plt\n",
    "from sklearn.manifold import MDS\n",
    "from sklearn.manifold import TSNE\n",
    "import copy\n",
    "from sklearn.linear_model import LinearRegression\n",
    "from sklearn.model_selection import train_test_split\n",
    "from sklearn.model_selection import cross_val_score\n",
    "from sklearn.decomposition import SparsePCA\n",
    "from sklearn.ensemble import ExtraTreesRegressor\n",
    "from sklearn.decomposition import NMF\n",
    "from sklearn.ensemble import RandomForestRegressor\n",
    "import subprocess\n",
    "from sklearn.model_selection import RandomizedSearchCV\n",
    "import sys\n",
    "import math\n",
    "import scipy.spatial.distance\n",
    "from sklearn.metrics.pairwise import pairwise_distances\n",
    "from sklearn.tree import DecisionTreeRegressor\n",
    "import os\n",
    "import shutil\n",
    "import glob\n",
    "import shap\n",
    "from scipy.stats import pearsonr\n",
    "\n",
    "cmap='viridis'\n",
    "sys.path.insert(1, '../../')\n",
    "from LibHelperFuncs import *\n",
    "\n",
    "rstate = 0\n",
    "np.random.seed(0)\n",
    "njob = -1\n",
    "global_trees = 10\n",
    "\n",
    "plt.rcParams['axes.grid'] = False"
   ]
  },
  {
   "cell_type": "code",
   "execution_count": 2,
   "metadata": {},
   "outputs": [
    {
     "name": "stdout",
     "output_type": "stream",
     "text": [
      "(4000, 373)\n"
     ]
    }
   ],
   "source": [
    "X = pd.read_csv(\"../../../Data/Au_nospectra.csv\", delimiter=',')\n",
    "print(X.shape)\n",
    "Y = X['Total_E']\n",
    "X = X.iloc[:,1:-5]\n",
    "X = X.select_dtypes(exclude=['object'])\n",
    "X = scale_data(X).values"
   ]
  },
  {
   "cell_type": "code",
   "execution_count": 4,
   "metadata": {},
   "outputs": [],
   "source": [
    "def compute_carried_shap(s_vals, comps, X):\n",
    "    shap_values_r = np.arange(0, X.shape[0]).reshape(-1, 1)\n",
    "    carried_shap_vals = np.apply_along_axis((lambda x : s_vals[x].reshape(-1, 1).T @ comps), 1, shap_values_r).reshape(-1, X.shape[1])\n",
    "    return carried_shap_vals\n",
    "\n",
    "def mean_carried_shap(s_vals, comps, X):\n",
    "    \n",
    "    sump = np.sqrt(np.mean(comps ** 2, axis=0))\n",
    "    sump[np.where(sump == 0)[0]] = 1\n",
    "    sump = sump ** 2\n",
    "    sump[np.where(sump < 1e-8)[0]] = 1\n",
    "    \n",
    "    t = compute_carried_shap(s_vals, comps, X) / sump\n",
    "    return np.mean(np.abs(t), axis=0) "
   ]
  },
  {
   "cell_type": "code",
   "execution_count": 5,
   "metadata": {},
   "outputs": [],
   "source": [
    "rf = RandomForestRegressor(n_estimators=global_trees, random_state=rstate, n_jobs=-1)\n",
    "rf.fit(X, Y)\n",
    "\n",
    "exp = shap.TreeExplainer(rf, feature_perturbation='tree_path_dependant')\n",
    "s_vals = exp.shap_values(X, approximate=True)\n",
    "ov_shap = np.mean(np.abs(s_vals), axis=0)"
   ]
  },
  {
   "cell_type": "code",
   "execution_count": 6,
   "metadata": {},
   "outputs": [],
   "source": [
    "pca = PCA(n_components=50)\n",
    "pca.fit(X)\n",
    "# comps = compute_sparse_components(pca.components_, X.shape[1], 0.85)\n",
    "comps = pca.components_\n",
    "X_r = (comps @ X.T).T\n",
    "\n",
    "rf = RandomForestRegressor(n_estimators=global_trees, random_state=rstate, n_jobs=-1)\n",
    "rf.fit(X_r, Y)\n",
    "\n",
    "exp = shap.TreeExplainer(rf, feature_perturbation='tree_path_dependant')\n",
    "s_vals = exp.shap_values(X_r, approximate=True)\n",
    "ov_reduced_shap = mean_carried_shap(s_vals, pca.components_, X)"
   ]
  },
  {
   "cell_type": "code",
   "execution_count": 7,
   "metadata": {},
   "outputs": [],
   "source": [
    "rf_params = dict()\n",
    "rf_params['n_estimators'] = global_trees"
   ]
  },
  {
   "cell_type": "code",
   "execution_count": 8,
   "metadata": {
    "collapsed": true,
    "jupyter": {
     "outputs_hidden": true
    }
   },
   "outputs": [
    {
     "name": "stdout",
     "output_type": "stream",
     "text": [
      "3\n",
      "4\n",
      "5\n",
      "6\n",
      "7\n",
      "8\n",
      "9\n",
      "10\n",
      "11\n",
      "12\n",
      "13\n",
      "14\n",
      "15\n",
      "16\n",
      "17\n",
      "18\n",
      "19\n",
      "20\n",
      "21\n",
      "22\n",
      "23\n",
      "24\n",
      "25\n",
      "26\n",
      "27\n",
      "28\n",
      "29\n",
      "30\n",
      "31\n",
      "32\n",
      "33\n",
      "34\n",
      "35\n",
      "36\n",
      "37\n",
      "38\n",
      "39\n",
      "40\n",
      "41\n",
      "42\n",
      "43\n",
      "44\n",
      "45\n",
      "46\n",
      "47\n",
      "48\n",
      "49\n",
      "50\n",
      "51\n",
      "52\n",
      "53\n",
      "54\n",
      "55\n",
      "56\n",
      "57\n",
      "58\n",
      "59\n",
      "60\n",
      "61\n",
      "62\n",
      "63\n",
      "64\n",
      "65\n",
      "66\n",
      "67\n",
      "68\n",
      "69\n",
      "70\n",
      "71\n",
      "72\n",
      "73\n",
      "74\n",
      "75\n",
      "76\n",
      "77\n",
      "78\n",
      "79\n",
      "80\n",
      "81\n",
      "82\n",
      "83\n",
      "84\n",
      "85\n",
      "86\n",
      "87\n",
      "88\n",
      "89\n",
      "90\n",
      "91\n",
      "92\n",
      "93\n",
      "94\n",
      "95\n",
      "96\n",
      "97\n",
      "98\n",
      "99\n"
     ]
    }
   ],
   "source": [
    "urscorecv=[]\n",
    "rscorecv=[]\n",
    "urscorel2=[]\n",
    "rscorel2=[]\n",
    "\n",
    "renge = range(3, 100)\n",
    "\n",
    "for k in renge:\n",
    "    print(k)\n",
    "    X_l = X[:,np.argsort(ov_shap)[::-1][:k]]\n",
    "\n",
    "    rf = RandomForestRegressor(**rf_params, n_jobs=njob, random_state=rstate)\n",
    "\n",
    "    rf.fit(X_l, Y)\n",
    "    urscorel2.append(np.sqrt(np.mean((rf.predict(X_l) - Y) ** 2)))\n",
    "    score = cross_val_score(rf, X_l, Y, cv=5, n_jobs=njob, scoring='neg_mean_squared_error')\n",
    "    urscorecv.append(np.abs(np.mean(score)))\n",
    "\n",
    "    X_r = X[:,np.argsort(ov_reduced_shap)[::-1][:k]]\n",
    "\n",
    "    rf = RandomForestRegressor(**rf_params, n_jobs=njob, random_state=rstate)\n",
    "\n",
    "    rf.fit(X_r, Y)\n",
    "    rscorel2.append(np.sqrt(np.mean((rf.predict(X_r) - Y) ** 2)))\n",
    "    score = cross_val_score(rf, X_r, Y, cv=5, n_jobs=njob, scoring='neg_mean_squared_error')\n",
    "    rscorecv.append(np.abs(np.mean(score)))"
   ]
  },
  {
   "cell_type": "code",
   "execution_count": 9,
   "metadata": {},
   "outputs": [
    {
     "name": "stdout",
     "output_type": "stream",
     "text": [
      "47087.43699509969 64538.09143043113\n"
     ]
    },
    {
     "data": {
      "image/png": "[encoded data removed]",
      "text/plain": [
       "<Figure size 864x720 with 1 Axes>"
      ]
     },
     "metadata": {
      "needs_background": "light"
     },
     "output_type": "display_data"
    }
   ],
   "source": [
    "plt.figure(figsize=(12,10))\n",
    "\n",
    "plt.plot(renge, urscorecv, label = 'Unreduced')\n",
    "plt.plot(renge, rscorecv, label='Reduced')\n",
    "\n",
    "plt.xlabel(\"Number of features\", fontsize=24)\n",
    "plt.ylabel(\"CV Score\", fontsize=24)\n",
    "plt.legend(fontsize=24)\n",
    "\n",
    "print(min(urscorecv), min(rscorecv))\n",
    "plt.xlim(left=0)\n",
    "\n",
    "plt.xticks(fontsize=18)\n",
    "plt.yticks(fontsize=18)\n",
    "\n",
    "plt.savefig(\"../../../Writeups/Figures/CSA_Reduced_CV_Scores_50_AU_nospectra_total_e.pdf\", bbox_inches='tight')"
   ]
  },
  {
   "cell_type": "code",
   "execution_count": 10,
   "metadata": {},
   "outputs": [
    {
     "name": "stdout",
     "output_type": "stream",
     "text": [
      "62.7579394011405 82.15367499925\n"
     ]
    },
    {
     "data": {
      "image/png": "[encoded data removed]",
      "text/plain": [
       "<Figure size 864x720 with 1 Axes>"
      ]
     },
     "metadata": {
      "needs_background": "light"
     },
     "output_type": "display_data"
    }
   ],
   "source": [
    "plt.figure(figsize=(12,10))\n",
    "\n",
    "plt.plot(renge, urscorel2, label = 'Unreduced')\n",
    "plt.plot(renge, rscorel2, label='Reduced')\n",
    "\n",
    "plt.xlabel(\"Number of features\", fontsize=24)\n",
    "plt.ylabel(\"RMSE Score\", fontsize=24)\n",
    "plt.legend(fontsize=24)\n",
    "\n",
    "print(min(urscorel2), min(rscorel2))\n",
    "\n",
    "plt.xticks(fontsize=18)\n",
    "plt.yticks(fontsize=18)\n",
    "\n",
    "plt.savefig(\"../../../Writeups/Figures/CSA_Reduced_RMSE_Scores_50_AU_nospectra_total_e.pdf\", bbox_inches='tight')"
   ]
  },
  {
   "cell_type": "code",
   "execution_count": null,
   "metadata": {},
   "outputs": [],
   "source": []
  },
  {
   "cell_type": "code",
   "execution_count": null,
   "metadata": {},
   "outputs": [],
   "source": []
  }
 ],
 "metadata": {
  "kernelspec": {
   "display_name": "Python 3",
   "language": "python",
   "name": "python3"
  },
  "language_info": {
   "codemirror_mode": {
    "name": "ipython",
    "version": 3
   },
   "file_extension": ".py",
   "mimetype": "text/x-python",
   "name": "python",
   "nbconvert_exporter": "python",
   "pygments_lexer": "ipython3",
   "version": "3.8.5"
  }
 },
 "nbformat": 4,
 "nbformat_minor": 4
}
