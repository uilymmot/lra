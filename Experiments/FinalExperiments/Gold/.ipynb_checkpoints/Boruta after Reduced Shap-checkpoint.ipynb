{
 "cells": [
  {
   "cell_type": "code",
   "execution_count": 1,
   "metadata": {},
   "outputs": [],
   "source": [
    "import numpy as np\n",
    "import pandas as pd\n",
    "from sklearn.decomposition import PCA\n",
    "import matplotlib.pyplot as plt\n",
    "from sklearn.manifold import MDS\n",
    "from sklearn.manifold import TSNE\n",
    "import copy\n",
    "from sklearn.linear_model import LinearRegression\n",
    "from sklearn.model_selection import train_test_split\n",
    "from sklearn.model_selection import cross_val_score\n",
    "from sklearn.decomposition import SparsePCA\n",
    "from sklearn.ensemble import ExtraTreesRegressor\n",
    "from sklearn.decomposition import NMF\n",
    "from sklearn.ensemble import RandomForestRegressor\n",
    "import subprocess\n",
    "from sklearn.model_selection import RandomizedSearchCV\n",
    "import sys\n",
    "import math\n",
    "import scipy.spatial.distance\n",
    "from sklearn.metrics.pairwise import pairwise_distances\n",
    "from sklearn.tree import DecisionTreeRegressor\n",
    "import os\n",
    "import shutil\n",
    "import glob\n",
    "import shap\n",
    "from scipy.stats import pearsonr\n",
    "\n",
    "\n",
    "cmap='viridis'\n",
    "sys.path.insert(1, '../..')\n",
    "from LibHelperFuncs import *\n",
    "\n",
    "from iterative_spectral_method.src import *\n",
    "from iterative_spectral_method.sdr import *\n",
    "\n",
    "rstate = 0\n",
    "np.random.seed(0)\n",
    "njob = 20\n",
    "global_trees = 100\n",
    "\n",
    "plt.rcParams['axes.grid'] = False"
   ]
  },
  {
   "cell_type": "code",
   "execution_count": 2,
   "metadata": {},
   "outputs": [
    {
     "name": "stdout",
     "output_type": "stream",
     "text": [
      "(4000, 1065)\n"
     ]
    }
   ],
   "source": [
    "X = pd.read_csv(\"../../../Data/Au_all.csv\", delimiter=',')\n",
    "print(X.shape)\n",
    "Y = X['Total_E']\n",
    "X = X.iloc[:,1:-5]\n",
    "X = X.select_dtypes(exclude=['object'])\n",
    "C = X.columns\n",
    "X = X.values"
   ]
  },
  {
   "cell_type": "code",
   "execution_count": 3,
   "metadata": {},
   "outputs": [],
   "source": [
    "t1 = time.time()"
   ]
  },
  {
   "cell_type": "code",
   "execution_count": 4,
   "metadata": {},
   "outputs": [],
   "source": [
    "ncomp = 50\n",
    "nfeatures = int(3 * (X.shape[1] ** 0.5))\n",
    "pca = PCA(n_components=ncomp)"
   ]
  },
  {
   "cell_type": "code",
   "execution_count": 5,
   "metadata": {},
   "outputs": [
    {
     "name": "stdout",
     "output_type": "stream",
     "text": [
      "55434.66149056032\n"
     ]
    }
   ],
   "source": [
    "X_r = pca.fit_transform(X)\n",
    "\n",
    "rf = RandomForestRegressor(n_estimators=30, n_jobs=22, random_state=rstate)\n",
    "rf.fit(X_r, Y)\n",
    "\n",
    "exp = shap.TreeExplainer(rf)\n",
    "s_vals = exp.shap_values(X_r, approximate=True)\n",
    "\n",
    "ov_shap = mean_carried_shap(s_vals, pca.components_, X)\n",
    "\n",
    "keepf = np.argsort(ov_shap)[::-1][:nfeatures]\n",
    "X_k = X[:,keepf]\n",
    "C_k = C[keepf]\n",
    "\n",
    "score = cross_val_score(rf, X_k, Y, cv=5, n_jobs=njob, scoring='neg_mean_squared_error')\n",
    "print(np.mean(np.abs(score)))"
   ]
  },
  {
   "cell_type": "code",
   "execution_count": 6,
   "metadata": {},
   "outputs": [],
   "source": [
    "X_pd = pd.DataFrame(X_k)\n",
    "X_pd.columns = C_k"
   ]
  },
  {
   "cell_type": "code",
   "execution_count": 7,
   "metadata": {},
   "outputs": [],
   "source": [
    "shadow_begins = X_pd.shape[1]\n",
    "\n",
    "hitCounts = np.zeros(X_pd.shape[1])\n",
    "\n",
    "ntrials = 30"
   ]
  },
  {
   "cell_type": "code",
   "execution_count": 8,
   "metadata": {},
   "outputs": [
    {
     "name": "stdout",
     "output_type": "stream",
     "text": [
      "Iteration 0, using seed 48436\n",
      "Iteration 1, using seed 25334\n",
      "Iteration 2, using seed 22276\n",
      "Iteration 3, using seed 51941\n",
      "Iteration 4, using seed 75820\n",
      "Iteration 5, using seed 58460\n",
      "Iteration 6, using seed 62921\n",
      "Iteration 7, using seed 48819\n",
      "Iteration 8, using seed 51874\n",
      "Iteration 9, using seed 25056\n",
      "Iteration 10, using seed 62867\n",
      "Iteration 11, using seed 41723\n",
      "Iteration 12, using seed 25856\n",
      "Iteration 13, using seed 4852\n",
      "Iteration 14, using seed 94341\n",
      "Iteration 15, using seed 4570\n",
      "Iteration 16, using seed 50314\n",
      "Iteration 17, using seed 47239\n",
      "Iteration 18, using seed 21273\n",
      "Iteration 19, using seed 95261\n",
      "Iteration 20, using seed 37442\n",
      "Iteration 21, using seed 29588\n",
      "Iteration 22, using seed 26395\n",
      "Iteration 23, using seed 99964\n",
      "Iteration 24, using seed 6686\n",
      "Iteration 25, using seed 6923\n",
      "Iteration 26, using seed 46775\n",
      "Iteration 27, using seed 60563\n",
      "Iteration 28, using seed 21759\n",
      "Iteration 29, using seed 28143\n"
     ]
    }
   ],
   "source": [
    "for itera in range(0, ntrials):\n",
    "    ranseed = np.random.randint(0, 100000)\n",
    "    np.random.seed(ranseed)\n",
    "    print(\"Iteration {}, using seed {}\".format(itera, ranseed))\n",
    "    \n",
    "    X_shadow = copy.deepcopy(X_pd)\n",
    "    X_shadow = X_pd.apply(np.random.permutation)\n",
    "    X_shadow.columns = ['shadow_' + f for f in X_pd.columns]\n",
    "\n",
    "    # add shadow features to original features\n",
    "    X_boruta = pd.concat([X_pd, X_shadow], axis=1)\n",
    "\n",
    "    rf = RandomForestRegressor(n_estimators=5, n_jobs=-1, random_state=ranseed)\n",
    "    rf.fit(X_boruta, Y)\n",
    "\n",
    "    # generate feature importances from SHAP values\n",
    "    exp = shap.TreeExplainer(rf)\n",
    "    s_vals = exp.shap_values(X_boruta, approximate=True)\n",
    "\n",
    "    feature_imps = np.mean(np.abs(s_vals), axis=0)\n",
    "    \n",
    "    # find the most important randomized feature\n",
    "    best_shadow = np.max(feature_imps[shadow_begins:])\n",
    "\n",
    "    # find the features which 'hit'\n",
    "    hits = np.where(feature_imps[:shadow_begins] > best_shadow)\n",
    "\n",
    "    hitCounts[hits] += 1"
   ]
  },
  {
   "cell_type": "code",
   "execution_count": 9,
   "metadata": {},
   "outputs": [],
   "source": [
    "pmf = [scipy.stats.binom.pmf(x, ntrials, .5) for x in range(ntrials + 1)]\n",
    "\n",
    "acceptance = 0\n",
    "refusal = 0\n",
    "\n",
    "count = 0\n",
    "for i in range(1, ntrials+1):\n",
    "    count += pmf[i-1]\n",
    "    if (count < 0.005):\n",
    "        refusal = i\n",
    "    if (count > 0.995):\n",
    "        acceptance = i\n",
    "        break"
   ]
  },
  {
   "cell_type": "code",
   "execution_count": 10,
   "metadata": {},
   "outputs": [
    {
     "data": {
      "text/html": [
       "[<matplotlib.lines.Line2D object at 0x0000013D8B72D828>]"
      ],
      "text/plain": [
       "[<matplotlib.lines.Line2D at 0x13d8b72d828>]"
      ]
     },
     "execution_count": 10,
     "metadata": {},
     "output_type": "execute_result"
    },
    {
     "data": {
      "image/png": "[encoded data removed]",
      "text/plain": [
       "<Figure size 432x288 with 1 Axes>"
      ]
     },
     "metadata": {
      "needs_background": "light"
     },
     "output_type": "display_data"
    }
   ],
   "source": [
    "plt.plot(feature_imps)"
   ]
  },
  {
   "cell_type": "code",
   "execution_count": 11,
   "metadata": {},
   "outputs": [],
   "source": [
    "accepted_features = np.where(hitCounts >= acceptance)[0]"
   ]
  },
  {
   "cell_type": "code",
   "execution_count": 12,
   "metadata": {},
   "outputs": [
    {
     "data": {
      "text/plain": [
       "array([ 0,  8, 12, 14, 15, 16, 17, 18, 20, 21, 27, 30, 54, 56, 59, 63, 64,\n",
       "       66, 70, 81, 83, 94], dtype=int64)"
      ]
     },
     "execution_count": 12,
     "metadata": {},
     "output_type": "execute_result"
    }
   ],
   "source": [
    "accepted_features"
   ]
  },
  {
   "cell_type": "code",
   "execution_count": 13,
   "metadata": {},
   "outputs": [
    {
     "name": "stdout",
     "output_type": "stream",
     "text": [
      "notebook took 16.548202514648438 to run\n"
     ]
    }
   ],
   "source": [
    "t2 = time.time()\n",
    "print('notebook took {} to run'.format(t2 - t1))"
   ]
  },
  {
   "cell_type": "code",
   "execution_count": 14,
   "metadata": {},
   "outputs": [
    {
     "name": "stdout",
     "output_type": "stream",
     "text": [
      "49504.954261460516\n"
     ]
    }
   ],
   "source": [
    "X_r = X_pd.iloc[:,accepted_features]\n",
    "\n",
    "rf = RandomForestRegressor(n_estimators=500, n_jobs=22, random_state=rstate)\n",
    "\n",
    "score = cross_val_score(rf, X_r, Y, cv=5, n_jobs=njob, scoring='neg_mean_squared_error')\n",
    "print(np.mean(np.abs(score)))"
   ]
  },
  {
   "cell_type": "code",
   "execution_count": 15,
   "metadata": {},
   "outputs": [
    {
     "data": {
      "text/plain": [
       "Index(['sq_1.1658', 'sq_1.8408', 'sq_2.0862', 'sq_1.9635', 'sq_1.1045',\n",
       "       'sq_1.0431', 'sq_2.2089', 'sq_2.3317', 'sq_0.9204', 'sq_0.9817',\n",
       "       'sq_0.859', 'sq_5.461', 'sq_2.7612', 'sq_0.7363', 'N_total', 'N_bonds',\n",
       "       'sq_11.5969', 'sq_14.1126', 'sq_8.713', 'sq_9.388', 'sq_9.6948',\n",
       "       'sq_8.7744'],\n",
       "      dtype='object')"
      ]
     },
     "execution_count": 15,
     "metadata": {},
     "output_type": "execute_result"
    }
   ],
   "source": [
    "X_pd.iloc[:,accepted_features].columns"
   ]
  },
  {
   "cell_type": "code",
   "execution_count": 16,
   "metadata": {},
   "outputs": [
    {
     "data": {
      "text/plain": [
       "40"
      ]
     },
     "execution_count": 16,
     "metadata": {},
     "output_type": "execute_result"
    }
   ],
   "source": [
    "len(['sq_1.1658', 'sq_1.8408', 'sq_1.5953', 'sq_1.7181', 'sq_2.0862',\n",
    "       'sq_1.9635', 'sq_1.1045', 'sq_1.0431', 'sq_2.2089', 'sq_2.3317',\n",
    "       'sq_0.9204', 'sq_0.9817', 'sq_2.4544', 'sq_0.859', 'sq_10.4924',\n",
    "       'sq_5.461', 'sq_6.0746', 'sq_0.7977', 'sq_12.2718', 'sq_10.6151',\n",
    "       'R_avg', 'sq_2.5771', 'sq_11.5355', 'sq_2.7612', 'sq_0.7363', 'N_total',\n",
    "       'N_bonds', 'sq_11.5969', 'sq_14.1126', 'sq_0.675', 'sq_8.713',\n",
    "       'sq_12.3332', 'Avg_total', 'sq_8.6517', 'sq_10.5538', 'sq_9.388',\n",
    "       'sq_9.6948', 'sq_11.1674', 'sq_11.8423', 'sq_8.7744'])"
   ]
  },
  {
   "cell_type": "code",
   "execution_count": null,
   "metadata": {},
   "outputs": [],
   "source": []
  }
 ],
 "metadata": {
  "kernelspec": {
   "display_name": "Python 3",
   "language": "python",
   "name": "python3"
  },
  "language_info": {
   "codemirror_mode": {
    "name": "ipython",
    "version": 3
   },
   "file_extension": ".py",
   "mimetype": "text/x-python",
   "name": "python",
   "nbconvert_exporter": "python",
   "pygments_lexer": "ipython3",
   "version": "3.7.3"
  }
 },
 "nbformat": 4,
 "nbformat_minor": 4
}
