{
 "cells": [
  {
   "cell_type": "code",
   "execution_count": 1,
   "metadata": {},
   "outputs": [],
   "source": [
    "import numpy as np\n",
    "import pandas as pd\n",
    "from sklearn.decomposition import PCA\n",
    "import matplotlib.pyplot as plt\n",
    "from sklearn.manifold import MDS\n",
    "from sklearn.manifold import TSNE\n",
    "import copy\n",
    "from sklearn.linear_model import LinearRegression\n",
    "from sklearn.model_selection import train_test_split\n",
    "from sklearn.model_selection import cross_val_score\n",
    "from sklearn.decomposition import SparsePCA\n",
    "from sklearn.ensemble import ExtraTreesRegressor\n",
    "from sklearn.decomposition import NMF\n",
    "from sklearn.ensemble import RandomForestRegressor\n",
    "import subprocess\n",
    "from sklearn.model_selection import RandomizedSearchCV\n",
    "import sys\n",
    "import math\n",
    "import scipy.spatial.distance\n",
    "from sklearn.metrics.pairwise import pairwise_distances\n",
    "from sklearn.tree import DecisionTreeRegressor\n",
    "import os\n",
    "import shutil\n",
    "import glob\n",
    "import shap\n",
    "from scipy.stats import pearsonr\n",
    "\n",
    "\n",
    "cmap='viridis'\n",
    "sys.path.insert(1, '../../')\n",
    "from LibHelperFuncs import *\n",
    "\n",
    "from iterative_spectral_method.src import *\n",
    "from iterative_spectral_method.sdr import *\n",
    "\n",
    "rstate = 0\n",
    "np.random.seed(0)\n",
    "njob = 20\n",
    "global_trees = 100\n",
    "\n",
    "plt.rcParams['axes.grid'] = False"
   ]
  },
  {
   "cell_type": "code",
   "execution_count": 2,
   "metadata": {},
   "outputs": [
    {
     "name": "stdout",
     "output_type": "stream",
     "text": [
      "(4000, 1065)\n"
     ]
    }
   ],
   "source": [
    "X = pd.read_csv(\"../../../Data/Au_all.csv\", delimiter=',')\n",
    "print(X.shape)\n",
    "Y = X['Total_E']\n",
    "X = X.iloc[:,1:-5]\n",
    "X = X.select_dtypes(exclude=['object'])\n",
    "C = X.columns\n",
    "X = X.values"
   ]
  },
  {
   "cell_type": "code",
   "execution_count": 3,
   "metadata": {},
   "outputs": [],
   "source": [
    "t1 = time.time()"
   ]
  },
  {
   "cell_type": "code",
   "execution_count": 4,
   "metadata": {},
   "outputs": [],
   "source": [
    "X = pd.DataFrame(X)\n",
    "X.columns = C"
   ]
  },
  {
   "cell_type": "code",
   "execution_count": 5,
   "metadata": {},
   "outputs": [],
   "source": [
    "shadow_begins = X.shape[1]\n",
    "\n",
    "hitCounts = np.zeros(X.shape[1])\n",
    "\n",
    "ntrials = 30"
   ]
  },
  {
   "cell_type": "code",
   "execution_count": 6,
   "metadata": {},
   "outputs": [
    {
     "name": "stdout",
     "output_type": "stream",
     "text": [
      "Iteration 0, using seed 68268\n",
      "Iteration 1, using seed 25969\n",
      "Iteration 2, using seed 95443\n",
      "Iteration 3, using seed 48521\n",
      "Iteration 4, using seed 74345\n",
      "Iteration 5, using seed 5940\n",
      "Iteration 6, using seed 30392\n",
      "Iteration 7, using seed 56877\n",
      "Iteration 8, using seed 14748\n",
      "Iteration 9, using seed 28970\n",
      "Iteration 10, using seed 50684\n",
      "Iteration 11, using seed 38378\n",
      "Iteration 12, using seed 34676\n",
      "Iteration 13, using seed 22639\n",
      "Iteration 14, using seed 99731\n",
      "Iteration 15, using seed 11953\n",
      "Iteration 16, using seed 1432\n",
      "Iteration 17, using seed 71043\n",
      "Iteration 18, using seed 96757\n",
      "Iteration 19, using seed 91878\n",
      "Iteration 20, using seed 72237\n",
      "Iteration 21, using seed 663\n",
      "Iteration 22, using seed 68371\n",
      "Iteration 23, using seed 36116\n",
      "Iteration 24, using seed 62272\n",
      "Iteration 25, using seed 70704\n",
      "Iteration 26, using seed 9395\n",
      "Iteration 27, using seed 98719\n",
      "Iteration 28, using seed 46375\n",
      "Iteration 29, using seed 83006\n"
     ]
    }
   ],
   "source": [
    "for itera in range(0, ntrials):\n",
    "    ranseed = np.random.randint(0, 100000)\n",
    "    np.random.seed(ranseed)\n",
    "    print(\"Iteration {}, using seed {}\".format(itera, ranseed))\n",
    "    \n",
    "    X_shadow = copy.deepcopy(X)\n",
    "    X_shadow = X.apply(np.random.permutation)\n",
    "    X_shadow.columns = ['shadow_' + f for f in X.columns]\n",
    "\n",
    "    # add shadow features to original features\n",
    "    X_boruta = pd.concat([X, X_shadow], axis=1)\n",
    "\n",
    "    rf = RandomForestRegressor(n_estimators=5, n_jobs=-1, random_state=ranseed)\n",
    "    rf.fit(X_boruta, Y)\n",
    "\n",
    "    # generate feature importances from SHAP values\n",
    "    exp = shap.TreeExplainer(rf)\n",
    "    s_vals = exp.shap_values(X_boruta, approximate=True)\n",
    "\n",
    "    feature_imps = np.mean(np.abs(s_vals), axis=0)\n",
    "    \n",
    "    # find the most important randomized feature\n",
    "    best_shadow = np.max(feature_imps[shadow_begins:])\n",
    "\n",
    "    # find the features which 'hit'\n",
    "    hits = np.where(feature_imps[:shadow_begins] > best_shadow)\n",
    "\n",
    "    hitCounts[hits] += 1"
   ]
  },
  {
   "cell_type": "code",
   "execution_count": 7,
   "metadata": {},
   "outputs": [],
   "source": [
    "pmf = [scipy.stats.binom.pmf(x, ntrials, .5) for x in range(ntrials + 1)]\n",
    "\n",
    "acceptance = 0\n",
    "refusal = 0\n",
    "\n",
    "count = 0\n",
    "for i in range(1, ntrials+1):\n",
    "    count += pmf[i-1]\n",
    "    if (count < 0.005):\n",
    "        refusal = i\n",
    "    if (count > 0.995):\n",
    "        acceptance = i\n",
    "        break"
   ]
  },
  {
   "cell_type": "code",
   "execution_count": 8,
   "metadata": {},
   "outputs": [
    {
     "data": {
      "text/html": [
       "[<matplotlib.lines.Line2D object at 0x00000222DEB334E0>]"
      ],
      "text/plain": [
       "[<matplotlib.lines.Line2D at 0x222deb334e0>]"
      ]
     },
     "execution_count": 8,
     "metadata": {},
     "output_type": "execute_result"
    },
    {
     "data": {
      "image/png": "[encoded data removed]",
      "text/plain": [
       "<Figure size 432x288 with 1 Axes>"
      ]
     },
     "metadata": {
      "needs_background": "light"
     },
     "output_type": "display_data"
    }
   ],
   "source": [
    "plt.plot(feature_imps)"
   ]
  },
  {
   "cell_type": "code",
   "execution_count": 9,
   "metadata": {},
   "outputs": [],
   "source": [
    "accepted_features = np.where(hitCounts >= acceptance)[0]"
   ]
  },
  {
   "cell_type": "code",
   "execution_count": 10,
   "metadata": {},
   "outputs": [
    {
     "data": {
      "text/plain": [
       "array([  0,   3,   5, 290, 291, 292, 301, 303, 304, 305, 306, 308, 321,\n",
       "       323, 325], dtype=int64)"
      ]
     },
     "execution_count": 10,
     "metadata": {},
     "output_type": "execute_result"
    }
   ],
   "source": [
    "accepted_features"
   ]
  },
  {
   "cell_type": "code",
   "execution_count": 11,
   "metadata": {},
   "outputs": [
    {
     "name": "stdout",
     "output_type": "stream",
     "text": [
      "notebook took 88.15418553352356 to run\n"
     ]
    }
   ],
   "source": [
    "t2 = time.time()\n",
    "print('notebook took {} to run'.format(t2 - t1))"
   ]
  },
  {
   "cell_type": "code",
   "execution_count": 12,
   "metadata": {},
   "outputs": [
    {
     "name": "stdout",
     "output_type": "stream",
     "text": [
      "45673.28072134803\n"
     ]
    }
   ],
   "source": [
    "X_r = X.iloc[:,accepted_features]\n",
    "\n",
    "rf = RandomForestRegressor(n_estimators=500, n_jobs=22, random_state=rstate)\n",
    "\n",
    "score = cross_val_score(rf, X_r, Y, cv=5, n_jobs=njob, scoring='neg_mean_squared_error')\n",
    "print(np.mean(np.abs(score)))"
   ]
  },
  {
   "cell_type": "code",
   "execution_count": 13,
   "metadata": {},
   "outputs": [
    {
     "data": {
      "text/plain": [
       "Index(['T', 'N_total', 'N_surface', 'N_bonds', 'sq_0.1227', 'sq_0.1841',\n",
       "       'sq_0.7363', 'sq_0.859', 'sq_0.9204', 'sq_0.9817', 'sq_1.0431',\n",
       "       'sq_1.1658', 'sq_1.9635', 'sq_2.0862', 'sq_2.2089'],\n",
       "      dtype='object')"
      ]
     },
     "execution_count": 13,
     "metadata": {},
     "output_type": "execute_result"
    }
   ],
   "source": [
    "C[accepted_features]"
   ]
  },
  {
   "cell_type": "code",
   "execution_count": 14,
   "metadata": {},
   "outputs": [
    {
     "data": {
      "text/plain": [
       "15"
      ]
     },
     "execution_count": 14,
     "metadata": {},
     "output_type": "execute_result"
    }
   ],
   "source": [
    "len(accepted_features)"
   ]
  },
  {
   "cell_type": "code",
   "execution_count": null,
   "metadata": {},
   "outputs": [],
   "source": []
  }
 ],
 "metadata": {
  "kernelspec": {
   "display_name": "Python 3",
   "language": "python",
   "name": "python3"
  },
  "language_info": {
   "codemirror_mode": {
    "name": "ipython",
    "version": 3
   },
   "file_extension": ".py",
   "mimetype": "text/x-python",
   "name": "python",
   "nbconvert_exporter": "python",
   "pygments_lexer": "ipython3",
   "version": "3.7.3"
  }
 },
 "nbformat": 4,
 "nbformat_minor": 4
}
