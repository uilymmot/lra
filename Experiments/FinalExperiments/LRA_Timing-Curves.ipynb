{
 "cells": [
  {
   "cell_type": "code",
   "execution_count": 1,
   "metadata": {},
   "outputs": [],
   "source": [
    "import numpy as np\n",
    "import pandas as pd\n",
    "from sklearn.decomposition import PCA\n",
    "import matplotlib.pyplot as plt\n",
    "import copy\n",
    "from sklearn.linear_model import LinearRegression\n",
    "from sklearn.model_selection import train_test_split\n",
    "from sklearn.model_selection import cross_val_score\n",
    "from sklearn.ensemble import RandomForestRegressor\n",
    "import sys\n",
    "import math\n",
    "import scipy.spatial.distance\n",
    "from sklearn.metrics.pairwise import pairwise_distances\n",
    "from sklearn.tree import DecisionTreeRegressor\n",
    "import os\n",
    "import shutil\n",
    "import glob\n",
    "import shap\n",
    "from sklearn.model_selection import train_test_split\n",
    "\n",
    "cmap='viridis'\n",
    "sys.path.insert(1, '../')\n",
    "from LibHelperFuncs import *\n",
    "\n",
    "rstate = 0\n",
    "np.random.seed(rstate)\n",
    "njob = -1\n",
    "global_trees = 1000\n",
    "\n",
    "np.random.seed(rstate)\n",
    "\n",
    "from sklearn.linear_model import Ridge\n",
    "from sklearn.kernel_ridge import KernelRidge\n",
    "from sklearn.neural_network import MLPRegressor\n",
    "\n",
    "import time"
   ]
  },
  {
   "cell_type": "code",
   "execution_count": 2,
   "metadata": {},
   "outputs": [],
   "source": [
    "originalDat = np.genfromtxt(\"../../Data/data_bas_preprocessing.csv\", delimiter=',')\n",
    "originalDat_pd = pd.read_csv(\"../../Data/data_bas_preprocessing_pd.csv\")\n",
    "\n",
    "X = originalDat[:,:-1]\n",
    "Y = originalDat[:,-1]\n",
    "C = originalDat_pd.columns\n"
   ]
  },
  {
   "cell_type": "code",
   "execution_count": null,
   "metadata": {},
   "outputs": [],
   "source": []
  },
  {
   "cell_type": "code",
   "execution_count": 18,
   "metadata": {},
   "outputs": [
    {
     "name": "stdout",
     "output_type": "stream",
     "text": [
      "Time to train model: 8.434844732284546\n",
      "Time to compute SHAP values: 1.4478232860565186\n"
     ]
    }
   ],
   "source": [
    "t1 = time.time()\n",
    "\n",
    "rf = RandomForestRegressor(n_estimators=global_trees, random_state=rstate, n_jobs=-1)\n",
    "rf.fit(X, Y)\n",
    "\n",
    "t2 = time.time()\n",
    "\n",
    "exp = shap.TreeExplainer(rf, feature_perturbation='tree_path_dependant')\n",
    "s_vals = exp.shap_values(X, approximate=True)\n",
    "ov_shap = np.mean(np.abs(s_vals), axis=0)\n",
    "\n",
    "t3 = time.time()\n",
    "\n",
    "print(\"Time to train model:\",t2-t1)\n",
    "print(\"Time to compute SHAP values:\",t3-t2)"
   ]
  },
  {
   "cell_type": "code",
   "execution_count": 20,
   "metadata": {},
   "outputs": [
    {
     "name": "stdout",
     "output_type": "stream",
     "text": [
      "Time to train model: 3.2227725982666016\n",
      "Time to compute SHAP values: 1.3339438438415527\n"
     ]
    }
   ],
   "source": [
    "t1 = time.time()\n",
    "\n",
    "pca = PCA(n_components=50)\n",
    "pca.fit(X)\n",
    "\n",
    "comps = pca.components_\n",
    "X_r = (comps @ X.T).T\n",
    "\n",
    "rf = RandomForestRegressor(n_estimators=global_trees, random_state=rstate, n_jobs=-1)\n",
    "rf.fit(X_r, Y)\n",
    "\n",
    "t2 = time.time()\n",
    "\n",
    "exp = shap.TreeExplainer(rf, feature_perturbation='tree_path_dependant')\n",
    "s_vals = exp.shap_values(X_r, approximate=True)\n",
    "ov_reduced_shap = mean_carried_shap(s_vals, pca.components_, X)\n",
    "\n",
    "t3 = time.time()\n",
    "\n",
    "print(\"Time to train model:\",t2-t1)\n",
    "print(\"Time to compute SHAP values:\",t3-t2)"
   ]
  },
  {
   "cell_type": "code",
   "execution_count": null,
   "metadata": {},
   "outputs": [],
   "source": []
  },
  {
   "cell_type": "code",
   "execution_count": null,
   "metadata": {},
   "outputs": [],
   "source": []
  },
  {
   "cell_type": "code",
   "execution_count": null,
   "metadata": {},
   "outputs": [],
   "source": []
  }
 ],
 "metadata": {
  "kernelspec": {
   "display_name": "Python 3",
   "language": "python",
   "name": "python3"
  },
  "language_info": {
   "codemirror_mode": {
    "name": "ipython",
    "version": 3
   },
   "file_extension": ".py",
   "mimetype": "text/x-python",
   "name": "python",
   "nbconvert_exporter": "python",
   "pygments_lexer": "ipython3",
   "version": "3.8.5"
  }
 },
 "nbformat": 4,
 "nbformat_minor": 4
}
