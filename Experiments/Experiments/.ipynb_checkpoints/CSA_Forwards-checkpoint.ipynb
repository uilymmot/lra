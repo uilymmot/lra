{
 "cells": [
  {
   "cell_type": "code",
   "execution_count": 1,
   "metadata": {},
   "outputs": [],
   "source": [
    "import numpy as np\n",
    "import pandas as pd\n",
    "from sklearn.decomposition import PCA\n",
    "import matplotlib.pyplot as plt\n",
    "from sklearn.manifold import MDS\n",
    "from sklearn.manifold import TSNE\n",
    "import copy\n",
    "from sklearn.linear_model import LinearRegression\n",
    "from sklearn.model_selection import train_test_split\n",
    "from sklearn.model_selection import cross_val_score\n",
    "from sklearn.decomposition import SparsePCA\n",
    "from sklearn.ensemble import ExtraTreesRegressor\n",
    "from sklearn.decomposition import NMF\n",
    "from sklearn.ensemble import RandomForestRegressor\n",
    "import subprocess\n",
    "from sklearn.model_selection import RandomizedSearchCV\n",
    "import sys\n",
    "import math\n",
    "import scipy.spatial.distance\n",
    "from sklearn.metrics.pairwise import pairwise_distances\n",
    "from sklearn.tree import DecisionTreeRegressor\n",
    "import os\n",
    "import shutil\n",
    "import glob\n",
    "import shap\n",
    "\n",
    "\n",
    "cmap='viridis'\n",
    "sys.path.insert(1, '../')\n",
    "from LibHelperFuncs import *\n",
    "\n",
    "from iterative_spectral_method.src import *\n",
    "from iterative_spectral_method.sdr import *\n",
    "\n",
    "rstate = 0\n",
    "np.random.seed(44164)\n",
    "njob = 22\n",
    "\n",
    "global_components = 50\n",
    "global_trees = 10\n",
    "\n",
    "steps = np.linspace(0.05, 1, 20)"
   ]
  },
  {
   "cell_type": "code",
   "execution_count": 2,
   "metadata": {},
   "outputs": [],
   "source": [
    "originalDat = np.genfromtxt(\"../../Data/data_bas_preprocessing.csv\", delimiter=',')\n",
    "originalDat_pd = pd.read_csv(\"../../Data/data_bas_preprocessing_pd.csv\")\n",
    "\n",
    "X = originalDat[:,:-1].T\n",
    "np.random.shuffle(X)\n",
    "X = X.T\n",
    "# np.random.shuffle(X)\n",
    "Y = originalDat[:,-1]\n",
    "C = originalDat_pd.columns\n",
    "\n",
    "lower_thres = 1e-3\n",
    "\n",
    "files = []\n",
    "objectives = ['ISM_gaus_homogeneous_0.5.csv', 'pca_sparse_0.5.csv',\\\n",
    "              \"ISM_poly_homogeneous_0.5.csv\", 'nmf_H_matrix_homogeneous_0.5.csv', 'pca_homogeneous_0.5.csv']"
   ]
  },
  {
   "cell_type": "code",
   "execution_count": 3,
   "metadata": {},
   "outputs": [
    {
     "name": "stdout",
     "output_type": "stream",
     "text": [
      "L1 loss: 0.010819146567717987\n",
      "L2 loss: 0.016416960244621092\n",
      "L3 loss: 0.007863553650188369\n",
      "L infinity loss: 0.10996999999999879\n",
      "5 Fold CV L2 loss: 0.0014682222004141349\n"
     ]
    }
   ],
   "source": [
    "rf_params = dict()\n",
    "rf_params['n_estimators'] = global_trees\n",
    "\n",
    "rf = RandomForestRegressor(**rf_params, n_jobs=njob, random_state=rstate)\n",
    "rf.fit(X, Y)\n",
    "\n",
    "print(\"L1 loss:\", np.mean(np.abs((rf.predict(X) - Y))))\n",
    "print(\"L2 loss:\", np.sqrt(np.mean((rf.predict(X) - Y) ** 2)))\n",
    "print(\"L3 loss:\", np.cbrt(np.mean((rf.predict(X) - Y) ** 3)))\n",
    "print(\"L infinity loss:\", np.max(np.abs(rf.predict(X) - Y)))\n",
    "\n",
    "score = cross_val_score(rf, X, Y, cv=5, n_jobs=-1, scoring='neg_mean_squared_error')\n",
    "print(\"5 Fold CV L2 loss:\", np.abs(np.mean(score)))"
   ]
  },
  {
   "cell_type": "code",
   "execution_count": 4,
   "metadata": {},
   "outputs": [
    {
     "name": "stdout",
     "output_type": "stream",
     "text": [
      "[  2   5  11  12  19  26  30  31  37  40  41  43  44  49  51  52  54  55\n",
      "  59  60  63  70  72  73  77  78  84  87  88  89  93  99 105 107 113 114\n",
      " 116 117 118 125 127 129 134 135 136 142 145 148 149 150 152 153 156 157\n",
      " 158 161 163 167 174 180 181 183 184 185 187 188 190 191 192 196 202 205\n",
      " 210 214 216 221 223 224 225 228 236 237 239 241 242 243 249 256 258 262\n",
      " 265 267 269 271 273 283 288 289 290 303 305 307 310 313 316 317 319 320\n",
      " 321 325 326 330 334 345 346 347 348 352 357 359 363 364 365 367 368 370\n",
      " 379 389] (1617, 390)\n",
      "[104 136 140 179 181 206 244 250] (1617, 262)\n",
      "[ 83 153 219 233 245] (1617, 254)\n",
      "[ 46 222] (1617, 249)\n",
      "[54] (1617, 247)\n"
     ]
    }
   ],
   "source": [
    "removed_features = []\n",
    "\n",
    "while (True):\n",
    "    \n",
    "    X_t = X\n",
    "    for rmfeatures in removed_features:\n",
    "        X_t = np.delete(X_t, rmfeatures, axis=1)\n",
    "\n",
    "    rf = RandomForestRegressor(**rf_params, n_jobs=njob, random_state=rstate)\n",
    "    rf.fit(X_t, Y)\n",
    "\n",
    "    explainerp = shap.TreeExplainer(rf, feature_perturbation='tree_path_dependant')\n",
    "    s_vals = explainerp.shap_values(X_t, approximate=True)\n",
    "\n",
    "    ov_shap = np.mean(np.abs(s_vals), axis=0)\n",
    "    removeable_features = np.where(ov_shap <= 1e-8)[0]\n",
    "    \n",
    "    if (len(removeable_features) == 0):\n",
    "        break\n",
    "    \n",
    "    removed_features.append(removeable_features)\n",
    "    \n",
    "    print(removeable_features, X_t.shape)\n",
    "    \n",
    "X_t = X\n",
    "for rmfeatures in removed_features:\n",
    "    X_t = np.delete(X_t, rmfeatures, axis=1)"
   ]
  },
  {
   "cell_type": "code",
   "execution_count": null,
   "metadata": {},
   "outputs": [],
   "source": []
  },
  {
   "cell_type": "code",
   "execution_count": 5,
   "metadata": {},
   "outputs": [
    {
     "name": "stdout",
     "output_type": "stream",
     "text": [
      "L2: 0.01608658397685868\n",
      "5 Fold CV L2 loss: 0.0014713072399023448\n"
     ]
    }
   ],
   "source": [
    "rf = RandomForestRegressor(n_estimators=global_trees, n_jobs=njob, random_state=rstate) \n",
    "# rf = LinearRegression()\n",
    "rf.fit(X_t, Y)\n",
    "print(\"L2:\", np.sqrt(np.mean((rf.predict(X_t) - Y) ** 2)))\n",
    "score = cross_val_score(rf, X_t, Y, cv=5, n_jobs=njob, scoring='neg_mean_squared_error')\n",
    "print(\"5 Fold CV L2 loss:\", np.abs(np.mean(score)))"
   ]
  },
  {
   "cell_type": "code",
   "execution_count": null,
   "metadata": {},
   "outputs": [],
   "source": []
  },
  {
   "cell_type": "code",
   "execution_count": null,
   "metadata": {},
   "outputs": [],
   "source": []
  },
  {
   "cell_type": "code",
   "execution_count": 6,
   "metadata": {},
   "outputs": [],
   "source": [
    "most_list = []\n",
    "stepcount = 150\n",
    "\n",
    "for x in range(stepcount):\n",
    "    X_l = X_t\n",
    "    for lllist in most_list:\n",
    "        X_l = np.delete(X_l, lllist, axis=1)\n",
    "    \n",
    "    rf = RandomForestRegressor(**rf_params, n_jobs=njob, random_state=rstate)\n",
    "    rf.fit(X_l, Y)\n",
    "\n",
    "    explainerp = shap.TreeExplainer(rf, feature_perturbation='tree_path_dependant')\n",
    "    s_vals = explainerp.shap_values(X_l, approximate=True)\n",
    "    \n",
    "    ov_shap_vals = np.mean(np.abs(s_vals), axis=0)\n",
    "    \n",
    "    most_important_features = np.argsort(ov_shap_vals)[-1]\n",
    "    most_list.append(most_important_features)"
   ]
  },
  {
   "cell_type": "code",
   "execution_count": 7,
   "metadata": {},
   "outputs": [
    {
     "data": {
      "text/html": [
       "[147, 21, 156, 56, 210, 183, 29, 126, 177, 110, 120, 220, 134, 96, 215, 185, 206, 138, 87, 186, 109, 218, 104, 82, 210, 18, 3, 67, 213, 41, 27, 66, 124, 129, 50, 115, 97, 192, 127, 62, 8, 130, 191, 185, 179, 94, 123, 51, 194, 119, 51, 18, 28, 127, 133, 9, 46, 30, 57, 106, 66, 152, 104, 91, 109, 134, 70, 94, 151, 8, 53, 145, 72, 156, 19, 25, 1, 59, 93, 158, 145, 146, 142, 140, 72, 28, 30, 116, 23, 32, 105, 112, 134, 148, 135, 76, 85, 115, 102, 129, 9, 140, 115, 6, 84, 80, 71, 69, 11, 95, 124, 19, 17, 12, 82, 31, 1, 116, 48, 32, 120, 120, 52, 19, 104, 56, 41, 76, 70, 29, 107, 31, 34, 26, 14, 30, 100, 3, 98, 93, 97, 64, 76, 102, 32, 52, 34, 25, 41, 84]"
      ],
      "text/plain": [
       "[147,\n",
       " 21,\n",
       " 156,\n",
       " 56,\n",
       " 210,\n",
       " 183,\n",
       " 29,\n",
       " 126,\n",
       " 177,\n",
       " 110,\n",
       " 120,\n",
       " 220,\n",
       " 134,\n",
       " 96,\n",
       " 215,\n",
       " 185,\n",
       " 206,\n",
       " 138,\n",
       " 87,\n",
       " 186,\n",
       " 109,\n",
       " 218,\n",
       " 104,\n",
       " 82,\n",
       " 210,\n",
       " 18,\n",
       " 3,\n",
       " 67,\n",
       " 213,\n",
       " 41,\n",
       " 27,\n",
       " 66,\n",
       " 124,\n",
       " 129,\n",
       " 50,\n",
       " 115,\n",
       " 97,\n",
       " 192,\n",
       " 127,\n",
       " 62,\n",
       " 8,\n",
       " 130,\n",
       " 191,\n",
       " 185,\n",
       " 179,\n",
       " 94,\n",
       " 123,\n",
       " 51,\n",
       " 194,\n",
       " 119,\n",
       " 51,\n",
       " 18,\n",
       " 28,\n",
       " 127,\n",
       " 133,\n",
       " 9,\n",
       " 46,\n",
       " 30,\n",
       " 57,\n",
       " 106,\n",
       " 66,\n",
       " 152,\n",
       " 104,\n",
       " 91,\n",
       " 109,\n",
       " 134,\n",
       " 70,\n",
       " 94,\n",
       " 151,\n",
       " 8,\n",
       " 53,\n",
       " 145,\n",
       " 72,\n",
       " 156,\n",
       " 19,\n",
       " 25,\n",
       " 1,\n",
       " 59,\n",
       " 93,\n",
       " 158,\n",
       " 145,\n",
       " 146,\n",
       " 142,\n",
       " 140,\n",
       " 72,\n",
       " 28,\n",
       " 30,\n",
       " 116,\n",
       " 23,\n",
       " 32,\n",
       " 105,\n",
       " 112,\n",
       " 134,\n",
       " 148,\n",
       " 135,\n",
       " 76,\n",
       " 85,\n",
       " 115,\n",
       " 102,\n",
       " 129,\n",
       " 9,\n",
       " 140,\n",
       " 115,\n",
       " 6,\n",
       " 84,\n",
       " 80,\n",
       " 71,\n",
       " 69,\n",
       " 11,\n",
       " 95,\n",
       " 124,\n",
       " 19,\n",
       " 17,\n",
       " 12,\n",
       " 82,\n",
       " 31,\n",
       " 1,\n",
       " 116,\n",
       " 48,\n",
       " 32,\n",
       " 120,\n",
       " 120,\n",
       " 52,\n",
       " 19,\n",
       " 104,\n",
       " 56,\n",
       " 41,\n",
       " 76,\n",
       " 70,\n",
       " 29,\n",
       " 107,\n",
       " 31,\n",
       " 34,\n",
       " 26,\n",
       " 14,\n",
       " 30,\n",
       " 100,\n",
       " 3,\n",
       " 98,\n",
       " 93,\n",
       " 97,\n",
       " 64,\n",
       " 76,\n",
       " 102,\n",
       " 32,\n",
       " 52,\n",
       " 34,\n",
       " 25,\n",
       " 41,\n",
       " 84]"
      ]
     },
     "execution_count": 7,
     "metadata": {},
     "output_type": "execute_result"
    }
   ],
   "source": [
    "most_list"
   ]
  },
  {
   "cell_type": "code",
   "execution_count": 8,
   "metadata": {},
   "outputs": [
    {
     "name": "stdout",
     "output_type": "stream",
     "text": [
      "10\n",
      "20\n",
      "30\n",
      "40\n",
      "50\n",
      "60\n",
      "70\n",
      "80\n",
      "90\n",
      "100\n",
      "110\n",
      "120\n",
      "130\n",
      "140\n",
      "150\n"
     ]
    }
   ],
   "source": [
    "X_k = []\n",
    "cvscoreslist = []\n",
    "l2scoreslist= []\n",
    "\n",
    "X_l = X_t\n",
    "\n",
    "\n",
    "counter = 0\n",
    "for i in most_list:\n",
    "    counter+=1\n",
    "    if (counter % 10 == 0):\n",
    "        print(counter)\n",
    "    \n",
    "    X_k.append(X_l[:,i])\n",
    "    X_l = np.delete(X_l, i, axis=1)\n",
    "\n",
    "    X_testing = np.array(X_k).T\n",
    "    \n",
    "    rf = RandomForestRegressor(n_estimators=global_trees, n_jobs=njob, random_state=rstate) \n",
    "    rf.fit(X_testing, Y)\n",
    "    l2score = np.sqrt(np.mean((rf.predict(X_testing) - Y) ** 2))\n",
    "    cvscore = cross_val_score(rf, X_testing, Y, cv=5, n_jobs=njob, scoring='neg_mean_squared_error')\n",
    "    cvscore = np.abs(np.mean(cvscore))\n",
    "    \n",
    "    cvscoreslist.append(cvscore)\n",
    "    l2scoreslist.append(l2score)"
   ]
  },
  {
   "cell_type": "code",
   "execution_count": 9,
   "metadata": {},
   "outputs": [
    {
     "data": {
      "text/plain": [
       "<matplotlib.legend.Legend at 0x1a763891eb8>"
      ]
     },
     "execution_count": 9,
     "metadata": {},
     "output_type": "execute_result"
    },
    {
     "data": {
      "image/png": "[encoded data removed]",
      "text/plain": [
       "<Figure size 1008x720 with 1 Axes>"
      ]
     },
     "metadata": {
      "needs_background": "light"
     },
     "output_type": "display_data"
    }
   ],
   "source": [
    "plt.figure(figsize=(14, 10))\n",
    "\n",
    "plt.title(\"Normalised Scores against number of features added\")\n",
    "num_removed = np.arange(stepcount)\n",
    "plt.plot(num_removed, cvscoreslist / np.max(cvscoreslist), label = 'CV Score')\n",
    "plt.plot(num_removed, l2scoreslist / np.max(l2scoreslist), label = 'L2 Score')\n",
    "\n",
    "plt.legend()"
   ]
  },
  {
   "cell_type": "code",
   "execution_count": 23,
   "metadata": {},
   "outputs": [
    {
     "data": {
      "text/plain": [
       "0.0013234779788539137"
      ]
     },
     "execution_count": 23,
     "metadata": {},
     "output_type": "execute_result"
    }
   ],
   "source": [
    "np.min(cvscoreslist)"
   ]
  },
  {
   "cell_type": "code",
   "execution_count": null,
   "metadata": {},
   "outputs": [],
   "source": []
  },
  {
   "cell_type": "code",
   "execution_count": 19,
   "metadata": {},
   "outputs": [],
   "source": [
    "X_k = []\n",
    "\n",
    "X_l = X_t\n",
    "counter = 0\n",
    "for i in most_list:\n",
    "    \n",
    "    X_k.append(X_l[:,i])\n",
    "    X_l = np.delete(X_l, i, axis=1)\n",
    "\n",
    "    X_testing = np.array(X_k).T\n",
    "    if counter == np.argmin(cvscoreslist):\n",
    "        break\n",
    "        \n",
    "    counter+=1"
   ]
  },
  {
   "cell_type": "code",
   "execution_count": null,
   "metadata": {},
   "outputs": [],
   "source": []
  },
  {
   "cell_type": "code",
   "execution_count": 20,
   "metadata": {},
   "outputs": [
    {
     "name": "stdout",
     "output_type": "stream",
     "text": [
      "L2: 0.015974031941715684\n",
      "5 Fold CV L2 loss: 0.0013234779788539152\n"
     ]
    }
   ],
   "source": [
    "rf = RandomForestRegressor(n_estimators=global_trees, n_jobs=njob, random_state=rstate) \n",
    "# rf = LinearRegression()\n",
    "rf.fit(X_testing, Y)\n",
    "print(\"L2:\", np.sqrt(np.mean((rf.predict(X_testing) - Y) ** 2)))\n",
    "score = cross_val_score(rf, X_testing, Y, cv=5, n_jobs=njob, scoring='neg_mean_squared_error')\n",
    "print(\"5 Fold CV L2 loss:\", np.abs(np.mean(score)))"
   ]
  },
  {
   "cell_type": "code",
   "execution_count": 21,
   "metadata": {},
   "outputs": [
    {
     "data": {
      "text/plain": [
       "(1617, 123)"
      ]
     },
     "execution_count": 21,
     "metadata": {},
     "output_type": "execute_result"
    }
   ],
   "source": [
    "X_l.shape"
   ]
  },
  {
   "cell_type": "code",
   "execution_count": null,
   "metadata": {},
   "outputs": [],
   "source": []
  },
  {
   "cell_type": "code",
   "execution_count": 22,
   "metadata": {},
   "outputs": [
    {
     "name": "stdout",
     "output_type": "stream",
     "text": [
      "L2 loss: 0.012920290010426057\n",
      "5 Fold CV L2 loss: 0.0012202146688345132\n"
     ]
    }
   ],
   "source": [
    "rf = RandomForestRegressor(n_estimators=5, random_state=rstate, n_jobs=-1)\n",
    "rf.fit(X, Y)\n",
    "\n",
    "exp = shap.TreeExplainer(rf, feature_perturbation='tree_path_dependant')\n",
    "s_vals = exp.shap_values(X, approximate=True)\n",
    "ov_shap = np.mean(np.abs(s_vals), axis=0)\n",
    "\n",
    "X_v = X[:,np.argsort(ov_shap)[::-1][:X_l.shape[1]]]\n",
    "\n",
    "rf = RandomForestRegressor(n_estimators=1000, n_jobs=-1, random_state=rstate)\n",
    "\n",
    "rf.fit(X_v, Y)\n",
    "print(\"L2 loss:\", np.sqrt(np.mean((rf.predict(X_v) - Y) ** 2)))\n",
    "score = cross_val_score(rf, X_v, Y, cv=5, n_jobs=-1, scoring='neg_mean_squared_error')\n",
    "print(\"5 Fold CV L2 loss:\", np.abs(np.mean(score)))"
   ]
  },
  {
   "cell_type": "code",
   "execution_count": null,
   "metadata": {},
   "outputs": [],
   "source": []
  }
 ],
 "metadata": {
  "kernelspec": {
   "display_name": "Python 3",
   "language": "python",
   "name": "python3"
  },
  "language_info": {
   "codemirror_mode": {
    "name": "ipython",
    "version": 3
   },
   "file_extension": ".py",
   "mimetype": "text/x-python",
   "name": "python",
   "nbconvert_exporter": "python",
   "pygments_lexer": "ipython3",
   "version": "3.7.3"
  }
 },
 "nbformat": 4,
 "nbformat_minor": 4
}
