{
 "cells": [
  {
   "cell_type": "code",
   "execution_count": 1,
   "metadata": {},
   "outputs": [],
   "source": [
    "import numpy as np\n",
    "import pandas as pd\n",
    "from sklearn.decomposition import PCA\n",
    "import matplotlib.pyplot as plt\n",
    "import copy\n",
    "from sklearn.linear_model import LinearRegression\n",
    "from sklearn.model_selection import cross_val_score\n",
    "from sklearn.ensemble import RandomForestRegressor\n",
    "import shap\n",
    "import sys\n",
    "\n",
    "cmap='viridis'\n",
    "sys.path.insert(1, '../')\n",
    "from LibHelperFuncs import *\n",
    "\n",
    "rstate = 0\n",
    "np.random.seed(0)\n",
    "njob = -1\n",
    "global_trees = 1000\n",
    "\n",
    "plt.rcParams['axes.grid'] = False"
   ]
  },
  {
   "cell_type": "code",
   "execution_count": 2,
   "metadata": {},
   "outputs": [],
   "source": [
    "originalDat = np.genfromtxt(\"../../Data/data_bas_preprocessing.csv\", delimiter=',')\n",
    "originalDat_pd = pd.read_csv(\"../../Data/data_bas_preprocessing_pd.csv\")\n",
    "\n",
    "X = originalDat[:,:-1].T\n",
    "np.random.shuffle(X)\n",
    "X = X.T\n",
    "# np.random.shuffle(X)\n",
    "Y = originalDat[:,-1]\n",
    "C = originalDat_pd.columns\n",
    "\n",
    "lower_thres = 1e-3\n",
    "\n",
    "files = []\n",
    "objectives = ['ISM_gaus_homogeneous_0.5.csv', 'pca_sparse_0.5.csv',\\\n",
    "              \"ISM_poly_homogeneous_0.5.csv\", 'nmf_H_matrix_homogeneous_0.5.csv', 'pca_homogeneous_0.5.csv']"
   ]
  },
  {
   "cell_type": "code",
   "execution_count": 3,
   "metadata": {},
   "outputs": [
    {
     "name": "stdout",
     "output_type": "stream",
     "text": [
      "L1 loss: 0.009310445269016606\n",
      "L2 loss: 0.01350371189497479\n",
      "L3 loss: 0.009564168423053038\n",
      "L infinity loss: 0.10996900000000487\n",
      "5 Fold CV L2 loss: 0.001269850530028545\n"
     ]
    }
   ],
   "source": [
    "rf_params = dict()\n",
    "rf_params['n_estimators'] = global_trees\n",
    "\n",
    "rf = RandomForestRegressor(**rf_params, n_jobs=njob, random_state=rstate)\n",
    "rf.fit(X, Y)\n",
    "\n",
    "print(\"L1 loss:\", np.mean(np.abs((rf.predict(X) - Y))))\n",
    "print(\"L2 loss:\", np.sqrt(np.mean((rf.predict(X) - Y) ** 2)))\n",
    "print(\"L3 loss:\", np.cbrt(np.mean((rf.predict(X) - Y) ** 3)))\n",
    "print(\"L infinity loss:\", np.max(np.abs(rf.predict(X) - Y)))\n",
    "\n",
    "score = cross_val_score(rf, X, Y, cv=5, n_jobs=-1, scoring='neg_mean_squared_error')\n",
    "print(\"5 Fold CV L2 loss:\", np.abs(np.mean(score)))"
   ]
  },
  {
   "cell_type": "code",
   "execution_count": 4,
   "metadata": {},
   "outputs": [
    {
     "name": "stdout",
     "output_type": "stream",
     "text": [
      "[  1   3   5   8   9  10  20  25  28  29  32  36  37  42  49  56  59  62\n",
      "  64  65  66  69  73  74  86  88  93  95  96 100 108 111 112 119 121 124\n",
      " 125 127 128 131 134 136 138 139 143 153 154 157 158 168 170 185 196 197\n",
      " 199 207 208 213 214 217 218 222 223 225 226 228 232 233 234 237 240 243\n",
      " 246 247 250 253 260 262 266 268 272 280 283 284 285 287 288 293 295 297\n",
      " 299 308 310 312 313 317 320 322 327 331 340 342 348 355 356 359 369 374\n",
      " 376 378 383 387 389] (1617, 390)\n",
      "[ 96 191] (1617, 277)\n",
      "[ 42 224] (1617, 275)\n",
      "[ 17  33 233] (1617, 273)\n",
      "[ 8 79] (1617, 270)\n"
     ]
    }
   ],
   "source": [
    "removed_features = []\n",
    "\n",
    "while (True):\n",
    "    \n",
    "    X_t = X\n",
    "    for rmfeatures in removed_features:\n",
    "        X_t = np.delete(X_t, rmfeatures, axis=1)\n",
    "\n",
    "    rf = RandomForestRegressor(**rf_params, n_jobs=njob, random_state=rstate)\n",
    "    rf.fit(X_t, Y)\n",
    "\n",
    "    explainerp = shap.TreeExplainer(rf, feature_perturbation='tree_path_dependant')\n",
    "    s_vals = explainerp.shap_values(X_t, approximate=True)\n",
    "\n",
    "    ov_shap = np.mean(np.abs(s_vals), axis=0)\n",
    "    removeable_features = np.where(ov_shap <= 1e-8)[0]\n",
    "    \n",
    "    if (len(removeable_features) == 0):\n",
    "        break\n",
    "    \n",
    "    removed_features.append(removeable_features)\n",
    "    \n",
    "    print(removeable_features, X_t.shape)\n",
    "    \n",
    "X_t = X\n",
    "for rmfeatures in removed_features:\n",
    "    X_t = np.delete(X_t, rmfeatures, axis=1)"
   ]
  },
  {
   "cell_type": "code",
   "execution_count": 5,
   "metadata": {},
   "outputs": [
    {
     "name": "stdout",
     "output_type": "stream",
     "text": [
      "L2: 0.01349129822426761\n",
      "5 Fold CV L2 loss: 0.001269856659472895\n"
     ]
    }
   ],
   "source": [
    "rf = RandomForestRegressor(n_estimators=global_trees, n_jobs=njob, random_state=rstate) \n",
    "# rf = LinearRegression()\n",
    "rf.fit(X_t, Y)\n",
    "print(\"L2:\", np.sqrt(np.mean((rf.predict(X_t) - Y) ** 2)))\n",
    "score = cross_val_score(rf, X_t, Y, cv=5, n_jobs=njob, scoring='neg_mean_squared_error')\n",
    "print(\"5 Fold CV L2 loss:\", np.abs(np.mean(score)))"
   ]
  },
  {
   "cell_type": "code",
   "execution_count": null,
   "metadata": {},
   "outputs": [],
   "source": []
  },
  {
   "cell_type": "code",
   "execution_count": 6,
   "metadata": {},
   "outputs": [
    {
     "data": {
      "text/plain": [
       "0.2333906222297752"
      ]
     },
     "execution_count": 6,
     "metadata": {},
     "output_type": "execute_result"
    }
   ],
   "source": [
    "((1.03 ** 30) * 150) / (52 * 30)"
   ]
  },
  {
   "cell_type": "code",
   "execution_count": null,
   "metadata": {},
   "outputs": [],
   "source": []
  },
  {
   "cell_type": "code",
   "execution_count": null,
   "metadata": {},
   "outputs": [],
   "source": []
  },
  {
   "cell_type": "code",
   "execution_count": 7,
   "metadata": {},
   "outputs": [
    {
     "data": {
      "text/plain": [
       "133"
      ]
     },
     "execution_count": 7,
     "metadata": {},
     "output_type": "execute_result"
    }
   ],
   "source": [
    "int(X_t.shape[1] / 2) - 1"
   ]
  },
  {
   "cell_type": "code",
   "execution_count": 8,
   "metadata": {},
   "outputs": [
    {
     "data": {
      "text/plain": [
       "(1617, 268)"
      ]
     },
     "execution_count": 8,
     "metadata": {},
     "output_type": "execute_result"
    }
   ],
   "source": [
    "X_t.shape"
   ]
  },
  {
   "cell_type": "code",
   "execution_count": null,
   "metadata": {},
   "outputs": [],
   "source": []
  },
  {
   "cell_type": "code",
   "execution_count": 9,
   "metadata": {},
   "outputs": [],
   "source": [
    "least_list = []\n",
    "sc = 2\n",
    "stepcount = int(X_t.shape[1] / sc) - 1\n",
    "\n",
    "for x in range(stepcount):\n",
    "    X_l = X_t\n",
    "    for lllist in least_list:\n",
    "        X_l = np.delete(X_l, lllist, axis=1)\n",
    "    \n",
    "    rf = RandomForestRegressor(**rf_params, n_jobs=njob, random_state=rstate)\n",
    "    rf.fit(X_l, Y)\n",
    "\n",
    "    explainerp = shap.TreeExplainer(rf, feature_perturbation='tree_path_dependant')\n",
    "    s_vals = explainerp.shap_values(X_l, approximate=True)\n",
    "    \n",
    "    ov_shap_vals = np.mean(np.abs(s_vals), axis=0)\n",
    "    \n",
    "    least_important_features = np.argsort(ov_shap_vals)[:sc]\n",
    "    least_list.append(least_important_features)"
   ]
  },
  {
   "cell_type": "code",
   "execution_count": 10,
   "metadata": {},
   "outputs": [
    {
     "name": "stdout",
     "output_type": "stream",
     "text": [
      "[25 93]\n",
      "[254  68]\n",
      "[171 243]\n",
      "[ 65 232]\n",
      "[ 24 209]\n",
      "[ 23 208]\n",
      "[31 13]\n",
      "[119  66]\n",
      "[34 21]\n",
      "[202  18]\n",
      "[ 10 205]\n",
      "[170  68]\n",
      "[80 78]\n",
      "[ 82 239]\n",
      "[104 225]\n",
      "[137 199]\n",
      "[206   6]\n",
      "[110  14]\n",
      "[ 74 226]\n",
      "[172 137]\n",
      "[182 116]\n",
      "[ 73 118]\n",
      "[121 200]\n",
      "[143 176]\n",
      "[212 132]\n",
      "[171  57]\n",
      "[113 188]\n",
      "[ 90 150]\n",
      "[ 1 65]\n",
      "[ 87 207]\n",
      "[113 144]\n",
      "[ 23 102]\n",
      "[163  73]\n",
      "[101  60]\n",
      "[148  89]\n",
      "[ 92 182]\n",
      "[194  60]\n",
      "[127  57]\n",
      "[ 56 113]\n",
      "[116 153]\n",
      "[110  87]\n",
      "[18 65]\n",
      "[118   3]\n",
      "[152  38]\n",
      "[161  94]\n",
      "[ 51 125]\n",
      "[ 83 122]\n",
      "[106 128]\n",
      "[46 84]\n",
      "[ 83 152]\n",
      "[ 95 152]\n",
      "[140  63]\n",
      "[80 33]\n",
      "[161  36]\n",
      "[69 41]\n",
      "[ 69 120]\n",
      "[20 25]\n",
      "[ 81 108]\n",
      "[77 57]\n",
      "[ 92 144]\n",
      "[56 69]\n",
      "[ 58 138]\n",
      "[ 54 110]\n",
      "[ 89 109]\n",
      "[138  78]\n",
      "[ 2 89]\n",
      "[49 14]\n",
      "[62 89]\n",
      "[48 93]\n",
      "[49 45]\n",
      "[2 3]\n",
      "[39 52]\n",
      "[110  33]\n",
      "[ 55 114]\n",
      "[36 33]\n",
      "[40 48]\n",
      "[15 60]\n",
      "[91 32]\n",
      "[ 6 43]\n",
      "[58 71]\n",
      "[87 92]\n",
      "[84 95]\n",
      "[ 3 94]\n",
      "[ 8 89]\n",
      "[67 76]\n",
      "[16 49]\n",
      "[78 89]\n",
      "[61 45]\n",
      "[77 45]\n",
      "[53 41]\n",
      "[35  7]\n",
      "[ 7 38]\n",
      "[79 41]\n",
      "[46 47]\n",
      "[36 71]\n",
      "[74  1]\n",
      "[ 2 21]\n",
      "[18  1]\n",
      "[47 37]\n",
      "[48 34]\n",
      "[27 50]\n",
      "[31 44]\n",
      "[48 33]\n",
      "[38 35]\n",
      "[30 25]\n",
      "[54 57]\n",
      "[16 47]\n",
      "[10 42]\n",
      "[27 43]\n",
      "[18 41]\n",
      "[39  1]\n",
      "[18 16]\n",
      "[ 5 39]\n",
      "[40  1]\n",
      "[23  5]\n",
      "[26  3]\n",
      "[17 34]\n",
      "[14 11]\n",
      "[ 4 13]\n",
      "[18 21]\n",
      "[3 0]\n",
      "[20 22]\n",
      "[ 6 16]\n",
      "[ 6 12]\n",
      "[12  2]\n",
      "[ 5 12]\n",
      "[8 3]\n",
      "[ 0 11]\n",
      "[5 3]\n",
      "[1 0]\n",
      "[3 0]\n",
      "[5 4]\n",
      "[0 2]\n"
     ]
    }
   ],
   "source": [
    "X_l = X_t\n",
    "cvscoreslist = []\n",
    "l2scoreslist= []\n",
    "\n",
    "for l in least_list:\n",
    "    X_l = np.delete(X_l, l, axis=1)\n",
    "    \n",
    "    rf = RandomForestRegressor(n_estimators=global_trees, n_jobs=njob, random_state=rstate) \n",
    "    rf.fit(X_l, Y)\n",
    "    l2score = np.sqrt(np.mean((rf.predict(X_l) - Y) ** 2))\n",
    "    cvscore = cross_val_score(rf, X_l, Y, cv=5, n_jobs=njob, scoring='neg_mean_squared_error')\n",
    "    cvscore = np.abs(np.mean(cvscore))\n",
    "    \n",
    "    cvscoreslist.append(cvscore)\n",
    "    l2scoreslist.append(l2score)\n",
    "    print(l)"
   ]
  },
  {
   "cell_type": "code",
   "execution_count": 17,
   "metadata": {},
   "outputs": [
    {
     "data": {
      "image/png": "[encoded data removed]",
      "text/plain": [
       "<Figure size 1008x720 with 1 Axes>"
      ]
     },
     "metadata": {
      "needs_background": "light"
     },
     "output_type": "display_data"
    }
   ],
   "source": [
    "plt.figure(figsize=(14, 10))\n",
    "\n",
    "num_removed = np.arange(2, stepcount * 2+1, 2)\n",
    "plt.plot(num_removed, cvscoreslist / np.max(cvscoreslist), label = 'CV Score')\n",
    "plt.plot(num_removed, l2scoreslist / np.max(l2scoreslist), label = 'L2 Score')\n",
    "\n",
    "plt.xticks(fontsize=18)\n",
    "plt.yticks(fontsize=18)\n",
    "\n",
    "plt.legend(fontsize=24)\n",
    "\n",
    "plt.ylabel(\"Normalised Score\", fontsize=24)\n",
    "plt.xlabel(\"Number of features\", fontsize=24)\n",
    "\n",
    "plt.legend(fontsize=24)\n",
    "\n",
    "plt.savefig(\"../../Writeups/Figures/CSA_backwards_normalised.pdf\", bbox_inches='tight')"
   ]
  },
  {
   "cell_type": "code",
   "execution_count": null,
   "metadata": {},
   "outputs": [],
   "source": []
  },
  {
   "cell_type": "code",
   "execution_count": 12,
   "metadata": {},
   "outputs": [],
   "source": [
    "X_l = X_t\n",
    "for i in range(0, np.argmin(cvscoreslist)):\n",
    "    X_l = np.delete(X_l, least_list[i], axis=1)"
   ]
  },
  {
   "cell_type": "code",
   "execution_count": 13,
   "metadata": {},
   "outputs": [
    {
     "data": {
      "text/plain": [
       "(1617, 30)"
      ]
     },
     "execution_count": 13,
     "metadata": {},
     "output_type": "execute_result"
    }
   ],
   "source": [
    "X_l.shape"
   ]
  },
  {
   "cell_type": "code",
   "execution_count": null,
   "metadata": {},
   "outputs": [],
   "source": []
  },
  {
   "cell_type": "code",
   "execution_count": 14,
   "metadata": {},
   "outputs": [
    {
     "name": "stdout",
     "output_type": "stream",
     "text": [
      "L2: 0.012352535657840136\n",
      "5 Fold CV L2 loss: 0.0011051905183883854\n"
     ]
    }
   ],
   "source": [
    "rf = RandomForestRegressor(n_estimators=1000, n_jobs=njob, random_state=rstate) \n",
    "# rf = LinearRegression()\n",
    "rf.fit(X_l, Y)\n",
    "print(\"L2:\", np.sqrt(np.mean((rf.predict(X_l) - Y) ** 2)))\n",
    "score = cross_val_score(rf, X_l, Y, cv=5, n_jobs=njob, scoring='neg_mean_squared_error')\n",
    "print(\"5 Fold CV L2 loss:\", np.abs(np.mean(score)))"
   ]
  },
  {
   "cell_type": "code",
   "execution_count": null,
   "metadata": {},
   "outputs": [],
   "source": []
  },
  {
   "cell_type": "code",
   "execution_count": null,
   "metadata": {},
   "outputs": [],
   "source": []
  },
  {
   "cell_type": "code",
   "execution_count": 15,
   "metadata": {},
   "outputs": [
    {
     "name": "stdout",
     "output_type": "stream",
     "text": [
      "L2 loss: 0.01233806782679951\n",
      "5 Fold CV L2 loss: 0.001104694536694057\n"
     ]
    }
   ],
   "source": [
    "rf = RandomForestRegressor(n_estimators=5, random_state=rstate, n_jobs=-1)\n",
    "rf.fit(X, Y)\n",
    "\n",
    "exp = shap.TreeExplainer(rf, feature_perturbation='tree_path_dependant')\n",
    "s_vals = exp.shap_values(X, approximate=True)\n",
    "ov_shap = np.mean(np.abs(s_vals), axis=0)\n",
    "\n",
    "X_v = X[:,np.argsort(ov_shap)[::-1][:X_l.shape[1]]]\n",
    "\n",
    "rf = RandomForestRegressor(n_estimators=1000, n_jobs=-1, random_state=rstate)\n",
    "\n",
    "rf.fit(X_v, Y)\n",
    "print(\"L2 loss:\", np.sqrt(np.mean((rf.predict(X_v) - Y) ** 2)))\n",
    "score = cross_val_score(rf, X_v, Y, cv=5, n_jobs=-1, scoring='neg_mean_squared_error')\n",
    "print(\"5 Fold CV L2 loss:\", np.abs(np.mean(score)))"
   ]
  },
  {
   "cell_type": "code",
   "execution_count": null,
   "metadata": {},
   "outputs": [],
   "source": []
  },
  {
   "cell_type": "code",
   "execution_count": null,
   "metadata": {},
   "outputs": [],
   "source": []
  }
 ],
 "metadata": {
  "kernelspec": {
   "display_name": "Python 3",
   "language": "python",
   "name": "python3"
  },
  "language_info": {
   "codemirror_mode": {
    "name": "ipython",
    "version": 3
   },
   "file_extension": ".py",
   "mimetype": "text/x-python",
   "name": "python",
   "nbconvert_exporter": "python",
   "pygments_lexer": "ipython3",
   "version": "3.7.3"
  }
 },
 "nbformat": 4,
 "nbformat_minor": 4
}
